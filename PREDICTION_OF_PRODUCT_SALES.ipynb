{
 "cells": [
  {
   "cell_type": "markdown",
   "metadata": {
    "colab_type": "text",
    "id": "view-in-github"
   },
   "source": [
    "<a href=\"https://colab.research.google.com/github/patelmedha/Prediction-of-Product-Sales/blob/main/PREDICTION_OF_PRODUCT_SALES.ipynb\" target=\"_parent\"><img src=\"https://colab.research.google.com/assets/colab-badge.svg\" alt=\"Open In Colab\"/></a>"
   ]
  },
  {
   "cell_type": "markdown",
   "metadata": {
    "id": "1N_F44oUEJN1"
   },
   "source": [
    "#**Prediction of Product Sales**\n",
    "**Author: Medha Patel**"
   ]
  },
  {
   "cell_type": "markdown",
   "metadata": {
    "id": "x6z7MEE8EZ6Q"
   },
   "source": [
    "##**Project Overview**\n",
    "\n",
    "  This project aims to help retailers understand the properties of their products and outlets that play crucial roles in increasing sales. Using data analysis and machine learning techniques, the project will identify the most significant factors that influence sales performance and explore segmentation strategies to group similar products and outlets together. The goal is to provide retailers with a comprehensive understanding of their sales data and enable them to make data-driven decisions that increase revenue, improve customer satisfaction, and drive long-term success. An interactive dashboard will allow retailers to visualize and explore the data, experiment with input parameters, and generate custom reports."
   ]
  },
  {
   "cell_type": "markdown",
   "metadata": {
    "id": "D-MpahyZMPeu"
   },
   "source": [
    "###Data Dictionary\n",
    "\n",
    "  - **Item_Identifier**: Unique product ID\n",
    "  - **Item_Weight**: Weight of product\n",
    "  - **Item_Fat_Content**: Whether the product is low fat or regular\n",
    "  - **Item_Visibility**: The percentage of total display area of all products in store allocated to the particular product\n",
    "  - **Item_Type**: The category to which the product belongs\n",
    "  - **Item_MRP**: Maximum Retail Price (list price) of the product\n",
    "  - **Outlet_Identifier**: Unique store ID\n",
    "  - **Outlet_Establishment_Year**: The year in which store was established\n",
    "  - **Outlet_Size**: The size of the store in terms of ground area covered\n",
    "  - **Outlet_Location_Type**: The type of area in which the store is located\n",
    "  - **Outlet_Type**: Whether the outlet is a grocery store or some sort of supermarket\n",
    "  - **Item_Outlet_Sales**: Sales of product in particular store. This is the target variable to be predicted\n",
    "\n",
    "\n",
    "\n"
   ]
  },
  {
   "cell_type": "markdown",
   "metadata": {
    "id": "hMJhHTraEgpi"
   },
   "source": [
    "##**Load and Inspect Data**"
   ]
  },
  {
   "cell_type": "markdown",
   "metadata": {
    "id": "a5WrXkBxmuVC"
   },
   "source": [
    "Import Libraries"
   ]
  },
  {
   "cell_type": "code",
   "execution_count": 1,
   "metadata": {
    "id": "g44gGJ3omzRP"
   },
   "outputs": [],
   "source": [
    "#Imports\n",
    "## Pandas\n",
    "import pandas as pd\n",
    "import warnings\n",
    "warnings.filterwarnings('ignore')\n",
    "\n",
    "## Numpy\n",
    "import numpy as np\n",
    "\n",
    "##Seaborn\n",
    "import seaborn as sns\n",
    "\n",
    "##Matplotlib\n",
    "import matplotlib.pyplot as plt\n",
    "\n",
    "## Preprocessing\n",
    "from sklearn.model_selection import train_test_split\n",
    "from sklearn.compose import make_column_selector\n",
    "from sklearn.preprocessing import StandardScaler, OneHotEncoder\n",
    "from sklearn.pipeline import make_pipeline\n",
    "from sklearn.compose import ColumnTransformer\n",
    "\n",
    "#Regression Model IMPORTS\n",
    "from sklearn.tree import DecisionTreeRegressor\n",
    "from sklearn.ensemble import BaggingRegressor\n",
    "from sklearn.ensemble import RandomForestRegressor\n",
    "\n",
    "## Models\n",
    "from sklearn.dummy import DummyRegressor\n",
    "from sklearn.linear_model import LinearRegression\n",
    "\n",
    "## REGRESSION METRIX\n",
    "from sklearn.metrics import r2_score\n",
    "from sklearn.metrics import mean_absolute_error\n",
    "from sklearn.metrics import mean_squared_error\n",
    "\n",
    "## Set global scikit-learn configuration\n",
    "from sklearn import set_config\n",
    "## Display estimators as a diagram\n",
    "set_config(display='diagram') # 'text' or 'diagram'}"
   ]
  },
  {
   "cell_type": "markdown",
   "metadata": {
    "id": "guR7-iGenCu6"
   },
   "source": [
    "### **Load Data**"
   ]
  },
  {
   "cell_type": "code",
   "execution_count": 2,
   "metadata": {
    "id": "dqZIsQzinF97"
   },
   "outputs": [
    {
     "ename": "FileNotFoundError",
     "evalue": "[Errno 2] No such file or directory: '/content/drive/MyDrive/CodingDojo/01-Fundamentals/PROJECT: PREDICTION OF PRODUCT SALES/Data/sales_predictions_2023.csv'",
     "output_type": "error",
     "traceback": [
      "\u001b[0;31m---------------------------------------------------------------------------\u001b[0m",
      "\u001b[0;31mFileNotFoundError\u001b[0m                         Traceback (most recent call last)",
      "Cell \u001b[0;32mIn [2], line 4\u001b[0m\n\u001b[1;32m      1\u001b[0m \u001b[38;5;66;03m#Load Data\u001b[39;00m\n\u001b[1;32m      2\u001b[0m file_url \u001b[38;5;241m=\u001b[39m \u001b[38;5;124m'\u001b[39m\u001b[38;5;124m/content/drive/MyDrive/CodingDojo/01-Fundamentals/PROJECT: PREDICTION OF PRODUCT SALES/Data/sales_predictions_2023.csv\u001b[39m\u001b[38;5;124m'\u001b[39m\n\u001b[0;32m----> 4\u001b[0m df \u001b[38;5;241m=\u001b[39m \u001b[43mpd\u001b[49m\u001b[38;5;241;43m.\u001b[39;49m\u001b[43mread_csv\u001b[49m\u001b[43m(\u001b[49m\u001b[43mfile_url\u001b[49m\u001b[43m)\u001b[49m\n\u001b[1;32m      6\u001b[0m \u001b[38;5;66;03m#Copy of Dataframe\u001b[39;00m\n\u001b[1;32m      7\u001b[0m df_ml \u001b[38;5;241m=\u001b[39m df\u001b[38;5;241m.\u001b[39mcopy()\n",
      "File \u001b[0;32m/opt/homebrew/Caskroom/miniforge/base/envs/dojo-env/lib/python3.9/site-packages/pandas/util/_decorators.py:211\u001b[0m, in \u001b[0;36mdeprecate_kwarg.<locals>._deprecate_kwarg.<locals>.wrapper\u001b[0;34m(*args, **kwargs)\u001b[0m\n\u001b[1;32m    209\u001b[0m     \u001b[38;5;28;01melse\u001b[39;00m:\n\u001b[1;32m    210\u001b[0m         kwargs[new_arg_name] \u001b[38;5;241m=\u001b[39m new_arg_value\n\u001b[0;32m--> 211\u001b[0m \u001b[38;5;28;01mreturn\u001b[39;00m \u001b[43mfunc\u001b[49m\u001b[43m(\u001b[49m\u001b[38;5;241;43m*\u001b[39;49m\u001b[43margs\u001b[49m\u001b[43m,\u001b[49m\u001b[43m \u001b[49m\u001b[38;5;241;43m*\u001b[39;49m\u001b[38;5;241;43m*\u001b[39;49m\u001b[43mkwargs\u001b[49m\u001b[43m)\u001b[49m\n",
      "File \u001b[0;32m/opt/homebrew/Caskroom/miniforge/base/envs/dojo-env/lib/python3.9/site-packages/pandas/util/_decorators.py:331\u001b[0m, in \u001b[0;36mdeprecate_nonkeyword_arguments.<locals>.decorate.<locals>.wrapper\u001b[0;34m(*args, **kwargs)\u001b[0m\n\u001b[1;32m    325\u001b[0m \u001b[38;5;28;01mif\u001b[39;00m \u001b[38;5;28mlen\u001b[39m(args) \u001b[38;5;241m>\u001b[39m num_allow_args:\n\u001b[1;32m    326\u001b[0m     warnings\u001b[38;5;241m.\u001b[39mwarn(\n\u001b[1;32m    327\u001b[0m         msg\u001b[38;5;241m.\u001b[39mformat(arguments\u001b[38;5;241m=\u001b[39m_format_argument_list(allow_args)),\n\u001b[1;32m    328\u001b[0m         \u001b[38;5;167;01mFutureWarning\u001b[39;00m,\n\u001b[1;32m    329\u001b[0m         stacklevel\u001b[38;5;241m=\u001b[39mfind_stack_level(),\n\u001b[1;32m    330\u001b[0m     )\n\u001b[0;32m--> 331\u001b[0m \u001b[38;5;28;01mreturn\u001b[39;00m \u001b[43mfunc\u001b[49m\u001b[43m(\u001b[49m\u001b[38;5;241;43m*\u001b[39;49m\u001b[43margs\u001b[49m\u001b[43m,\u001b[49m\u001b[43m \u001b[49m\u001b[38;5;241;43m*\u001b[39;49m\u001b[38;5;241;43m*\u001b[39;49m\u001b[43mkwargs\u001b[49m\u001b[43m)\u001b[49m\n",
      "File \u001b[0;32m/opt/homebrew/Caskroom/miniforge/base/envs/dojo-env/lib/python3.9/site-packages/pandas/io/parsers/readers.py:950\u001b[0m, in \u001b[0;36mread_csv\u001b[0;34m(filepath_or_buffer, sep, delimiter, header, names, index_col, usecols, squeeze, prefix, mangle_dupe_cols, dtype, engine, converters, true_values, false_values, skipinitialspace, skiprows, skipfooter, nrows, na_values, keep_default_na, na_filter, verbose, skip_blank_lines, parse_dates, infer_datetime_format, keep_date_col, date_parser, dayfirst, cache_dates, iterator, chunksize, compression, thousands, decimal, lineterminator, quotechar, quoting, doublequote, escapechar, comment, encoding, encoding_errors, dialect, error_bad_lines, warn_bad_lines, on_bad_lines, delim_whitespace, low_memory, memory_map, float_precision, storage_options)\u001b[0m\n\u001b[1;32m    935\u001b[0m kwds_defaults \u001b[38;5;241m=\u001b[39m _refine_defaults_read(\n\u001b[1;32m    936\u001b[0m     dialect,\n\u001b[1;32m    937\u001b[0m     delimiter,\n\u001b[0;32m   (...)\u001b[0m\n\u001b[1;32m    946\u001b[0m     defaults\u001b[38;5;241m=\u001b[39m{\u001b[38;5;124m\"\u001b[39m\u001b[38;5;124mdelimiter\u001b[39m\u001b[38;5;124m\"\u001b[39m: \u001b[38;5;124m\"\u001b[39m\u001b[38;5;124m,\u001b[39m\u001b[38;5;124m\"\u001b[39m},\n\u001b[1;32m    947\u001b[0m )\n\u001b[1;32m    948\u001b[0m kwds\u001b[38;5;241m.\u001b[39mupdate(kwds_defaults)\n\u001b[0;32m--> 950\u001b[0m \u001b[38;5;28;01mreturn\u001b[39;00m \u001b[43m_read\u001b[49m\u001b[43m(\u001b[49m\u001b[43mfilepath_or_buffer\u001b[49m\u001b[43m,\u001b[49m\u001b[43m \u001b[49m\u001b[43mkwds\u001b[49m\u001b[43m)\u001b[49m\n",
      "File \u001b[0;32m/opt/homebrew/Caskroom/miniforge/base/envs/dojo-env/lib/python3.9/site-packages/pandas/io/parsers/readers.py:605\u001b[0m, in \u001b[0;36m_read\u001b[0;34m(filepath_or_buffer, kwds)\u001b[0m\n\u001b[1;32m    602\u001b[0m _validate_names(kwds\u001b[38;5;241m.\u001b[39mget(\u001b[38;5;124m\"\u001b[39m\u001b[38;5;124mnames\u001b[39m\u001b[38;5;124m\"\u001b[39m, \u001b[38;5;28;01mNone\u001b[39;00m))\n\u001b[1;32m    604\u001b[0m \u001b[38;5;66;03m# Create the parser.\u001b[39;00m\n\u001b[0;32m--> 605\u001b[0m parser \u001b[38;5;241m=\u001b[39m \u001b[43mTextFileReader\u001b[49m\u001b[43m(\u001b[49m\u001b[43mfilepath_or_buffer\u001b[49m\u001b[43m,\u001b[49m\u001b[43m \u001b[49m\u001b[38;5;241;43m*\u001b[39;49m\u001b[38;5;241;43m*\u001b[39;49m\u001b[43mkwds\u001b[49m\u001b[43m)\u001b[49m\n\u001b[1;32m    607\u001b[0m \u001b[38;5;28;01mif\u001b[39;00m chunksize \u001b[38;5;129;01mor\u001b[39;00m iterator:\n\u001b[1;32m    608\u001b[0m     \u001b[38;5;28;01mreturn\u001b[39;00m parser\n",
      "File \u001b[0;32m/opt/homebrew/Caskroom/miniforge/base/envs/dojo-env/lib/python3.9/site-packages/pandas/io/parsers/readers.py:1442\u001b[0m, in \u001b[0;36mTextFileReader.__init__\u001b[0;34m(self, f, engine, **kwds)\u001b[0m\n\u001b[1;32m   1439\u001b[0m     \u001b[38;5;28mself\u001b[39m\u001b[38;5;241m.\u001b[39moptions[\u001b[38;5;124m\"\u001b[39m\u001b[38;5;124mhas_index_names\u001b[39m\u001b[38;5;124m\"\u001b[39m] \u001b[38;5;241m=\u001b[39m kwds[\u001b[38;5;124m\"\u001b[39m\u001b[38;5;124mhas_index_names\u001b[39m\u001b[38;5;124m\"\u001b[39m]\n\u001b[1;32m   1441\u001b[0m \u001b[38;5;28mself\u001b[39m\u001b[38;5;241m.\u001b[39mhandles: IOHandles \u001b[38;5;241m|\u001b[39m \u001b[38;5;28;01mNone\u001b[39;00m \u001b[38;5;241m=\u001b[39m \u001b[38;5;28;01mNone\u001b[39;00m\n\u001b[0;32m-> 1442\u001b[0m \u001b[38;5;28mself\u001b[39m\u001b[38;5;241m.\u001b[39m_engine \u001b[38;5;241m=\u001b[39m \u001b[38;5;28;43mself\u001b[39;49m\u001b[38;5;241;43m.\u001b[39;49m\u001b[43m_make_engine\u001b[49m\u001b[43m(\u001b[49m\u001b[43mf\u001b[49m\u001b[43m,\u001b[49m\u001b[43m \u001b[49m\u001b[38;5;28;43mself\u001b[39;49m\u001b[38;5;241;43m.\u001b[39;49m\u001b[43mengine\u001b[49m\u001b[43m)\u001b[49m\n",
      "File \u001b[0;32m/opt/homebrew/Caskroom/miniforge/base/envs/dojo-env/lib/python3.9/site-packages/pandas/io/parsers/readers.py:1735\u001b[0m, in \u001b[0;36mTextFileReader._make_engine\u001b[0;34m(self, f, engine)\u001b[0m\n\u001b[1;32m   1733\u001b[0m     \u001b[38;5;28;01mif\u001b[39;00m \u001b[38;5;124m\"\u001b[39m\u001b[38;5;124mb\u001b[39m\u001b[38;5;124m\"\u001b[39m \u001b[38;5;129;01mnot\u001b[39;00m \u001b[38;5;129;01min\u001b[39;00m mode:\n\u001b[1;32m   1734\u001b[0m         mode \u001b[38;5;241m+\u001b[39m\u001b[38;5;241m=\u001b[39m \u001b[38;5;124m\"\u001b[39m\u001b[38;5;124mb\u001b[39m\u001b[38;5;124m\"\u001b[39m\n\u001b[0;32m-> 1735\u001b[0m \u001b[38;5;28mself\u001b[39m\u001b[38;5;241m.\u001b[39mhandles \u001b[38;5;241m=\u001b[39m \u001b[43mget_handle\u001b[49m\u001b[43m(\u001b[49m\n\u001b[1;32m   1736\u001b[0m \u001b[43m    \u001b[49m\u001b[43mf\u001b[49m\u001b[43m,\u001b[49m\n\u001b[1;32m   1737\u001b[0m \u001b[43m    \u001b[49m\u001b[43mmode\u001b[49m\u001b[43m,\u001b[49m\n\u001b[1;32m   1738\u001b[0m \u001b[43m    \u001b[49m\u001b[43mencoding\u001b[49m\u001b[38;5;241;43m=\u001b[39;49m\u001b[38;5;28;43mself\u001b[39;49m\u001b[38;5;241;43m.\u001b[39;49m\u001b[43moptions\u001b[49m\u001b[38;5;241;43m.\u001b[39;49m\u001b[43mget\u001b[49m\u001b[43m(\u001b[49m\u001b[38;5;124;43m\"\u001b[39;49m\u001b[38;5;124;43mencoding\u001b[39;49m\u001b[38;5;124;43m\"\u001b[39;49m\u001b[43m,\u001b[49m\u001b[43m \u001b[49m\u001b[38;5;28;43;01mNone\u001b[39;49;00m\u001b[43m)\u001b[49m\u001b[43m,\u001b[49m\n\u001b[1;32m   1739\u001b[0m \u001b[43m    \u001b[49m\u001b[43mcompression\u001b[49m\u001b[38;5;241;43m=\u001b[39;49m\u001b[38;5;28;43mself\u001b[39;49m\u001b[38;5;241;43m.\u001b[39;49m\u001b[43moptions\u001b[49m\u001b[38;5;241;43m.\u001b[39;49m\u001b[43mget\u001b[49m\u001b[43m(\u001b[49m\u001b[38;5;124;43m\"\u001b[39;49m\u001b[38;5;124;43mcompression\u001b[39;49m\u001b[38;5;124;43m\"\u001b[39;49m\u001b[43m,\u001b[49m\u001b[43m \u001b[49m\u001b[38;5;28;43;01mNone\u001b[39;49;00m\u001b[43m)\u001b[49m\u001b[43m,\u001b[49m\n\u001b[1;32m   1740\u001b[0m \u001b[43m    \u001b[49m\u001b[43mmemory_map\u001b[49m\u001b[38;5;241;43m=\u001b[39;49m\u001b[38;5;28;43mself\u001b[39;49m\u001b[38;5;241;43m.\u001b[39;49m\u001b[43moptions\u001b[49m\u001b[38;5;241;43m.\u001b[39;49m\u001b[43mget\u001b[49m\u001b[43m(\u001b[49m\u001b[38;5;124;43m\"\u001b[39;49m\u001b[38;5;124;43mmemory_map\u001b[39;49m\u001b[38;5;124;43m\"\u001b[39;49m\u001b[43m,\u001b[49m\u001b[43m \u001b[49m\u001b[38;5;28;43;01mFalse\u001b[39;49;00m\u001b[43m)\u001b[49m\u001b[43m,\u001b[49m\n\u001b[1;32m   1741\u001b[0m \u001b[43m    \u001b[49m\u001b[43mis_text\u001b[49m\u001b[38;5;241;43m=\u001b[39;49m\u001b[43mis_text\u001b[49m\u001b[43m,\u001b[49m\n\u001b[1;32m   1742\u001b[0m \u001b[43m    \u001b[49m\u001b[43merrors\u001b[49m\u001b[38;5;241;43m=\u001b[39;49m\u001b[38;5;28;43mself\u001b[39;49m\u001b[38;5;241;43m.\u001b[39;49m\u001b[43moptions\u001b[49m\u001b[38;5;241;43m.\u001b[39;49m\u001b[43mget\u001b[49m\u001b[43m(\u001b[49m\u001b[38;5;124;43m\"\u001b[39;49m\u001b[38;5;124;43mencoding_errors\u001b[39;49m\u001b[38;5;124;43m\"\u001b[39;49m\u001b[43m,\u001b[49m\u001b[43m \u001b[49m\u001b[38;5;124;43m\"\u001b[39;49m\u001b[38;5;124;43mstrict\u001b[39;49m\u001b[38;5;124;43m\"\u001b[39;49m\u001b[43m)\u001b[49m\u001b[43m,\u001b[49m\n\u001b[1;32m   1743\u001b[0m \u001b[43m    \u001b[49m\u001b[43mstorage_options\u001b[49m\u001b[38;5;241;43m=\u001b[39;49m\u001b[38;5;28;43mself\u001b[39;49m\u001b[38;5;241;43m.\u001b[39;49m\u001b[43moptions\u001b[49m\u001b[38;5;241;43m.\u001b[39;49m\u001b[43mget\u001b[49m\u001b[43m(\u001b[49m\u001b[38;5;124;43m\"\u001b[39;49m\u001b[38;5;124;43mstorage_options\u001b[39;49m\u001b[38;5;124;43m\"\u001b[39;49m\u001b[43m,\u001b[49m\u001b[43m \u001b[49m\u001b[38;5;28;43;01mNone\u001b[39;49;00m\u001b[43m)\u001b[49m\u001b[43m,\u001b[49m\n\u001b[1;32m   1744\u001b[0m \u001b[43m\u001b[49m\u001b[43m)\u001b[49m\n\u001b[1;32m   1745\u001b[0m \u001b[38;5;28;01massert\u001b[39;00m \u001b[38;5;28mself\u001b[39m\u001b[38;5;241m.\u001b[39mhandles \u001b[38;5;129;01mis\u001b[39;00m \u001b[38;5;129;01mnot\u001b[39;00m \u001b[38;5;28;01mNone\u001b[39;00m\n\u001b[1;32m   1746\u001b[0m f \u001b[38;5;241m=\u001b[39m \u001b[38;5;28mself\u001b[39m\u001b[38;5;241m.\u001b[39mhandles\u001b[38;5;241m.\u001b[39mhandle\n",
      "File \u001b[0;32m/opt/homebrew/Caskroom/miniforge/base/envs/dojo-env/lib/python3.9/site-packages/pandas/io/common.py:856\u001b[0m, in \u001b[0;36mget_handle\u001b[0;34m(path_or_buf, mode, encoding, compression, memory_map, is_text, errors, storage_options)\u001b[0m\n\u001b[1;32m    851\u001b[0m \u001b[38;5;28;01melif\u001b[39;00m \u001b[38;5;28misinstance\u001b[39m(handle, \u001b[38;5;28mstr\u001b[39m):\n\u001b[1;32m    852\u001b[0m     \u001b[38;5;66;03m# Check whether the filename is to be opened in binary mode.\u001b[39;00m\n\u001b[1;32m    853\u001b[0m     \u001b[38;5;66;03m# Binary mode does not support 'encoding' and 'newline'.\u001b[39;00m\n\u001b[1;32m    854\u001b[0m     \u001b[38;5;28;01mif\u001b[39;00m ioargs\u001b[38;5;241m.\u001b[39mencoding \u001b[38;5;129;01mand\u001b[39;00m \u001b[38;5;124m\"\u001b[39m\u001b[38;5;124mb\u001b[39m\u001b[38;5;124m\"\u001b[39m \u001b[38;5;129;01mnot\u001b[39;00m \u001b[38;5;129;01min\u001b[39;00m ioargs\u001b[38;5;241m.\u001b[39mmode:\n\u001b[1;32m    855\u001b[0m         \u001b[38;5;66;03m# Encoding\u001b[39;00m\n\u001b[0;32m--> 856\u001b[0m         handle \u001b[38;5;241m=\u001b[39m \u001b[38;5;28;43mopen\u001b[39;49m\u001b[43m(\u001b[49m\n\u001b[1;32m    857\u001b[0m \u001b[43m            \u001b[49m\u001b[43mhandle\u001b[49m\u001b[43m,\u001b[49m\n\u001b[1;32m    858\u001b[0m \u001b[43m            \u001b[49m\u001b[43mioargs\u001b[49m\u001b[38;5;241;43m.\u001b[39;49m\u001b[43mmode\u001b[49m\u001b[43m,\u001b[49m\n\u001b[1;32m    859\u001b[0m \u001b[43m            \u001b[49m\u001b[43mencoding\u001b[49m\u001b[38;5;241;43m=\u001b[39;49m\u001b[43mioargs\u001b[49m\u001b[38;5;241;43m.\u001b[39;49m\u001b[43mencoding\u001b[49m\u001b[43m,\u001b[49m\n\u001b[1;32m    860\u001b[0m \u001b[43m            \u001b[49m\u001b[43merrors\u001b[49m\u001b[38;5;241;43m=\u001b[39;49m\u001b[43merrors\u001b[49m\u001b[43m,\u001b[49m\n\u001b[1;32m    861\u001b[0m \u001b[43m            \u001b[49m\u001b[43mnewline\u001b[49m\u001b[38;5;241;43m=\u001b[39;49m\u001b[38;5;124;43m\"\u001b[39;49m\u001b[38;5;124;43m\"\u001b[39;49m\u001b[43m,\u001b[49m\n\u001b[1;32m    862\u001b[0m \u001b[43m        \u001b[49m\u001b[43m)\u001b[49m\n\u001b[1;32m    863\u001b[0m     \u001b[38;5;28;01melse\u001b[39;00m:\n\u001b[1;32m    864\u001b[0m         \u001b[38;5;66;03m# Binary mode\u001b[39;00m\n\u001b[1;32m    865\u001b[0m         handle \u001b[38;5;241m=\u001b[39m \u001b[38;5;28mopen\u001b[39m(handle, ioargs\u001b[38;5;241m.\u001b[39mmode)\n",
      "\u001b[0;31mFileNotFoundError\u001b[0m: [Errno 2] No such file or directory: '/content/drive/MyDrive/CodingDojo/01-Fundamentals/PROJECT: PREDICTION OF PRODUCT SALES/Data/sales_predictions_2023.csv'"
     ]
    }
   ],
   "source": [
    "#Load Data\n",
    "file_url = '/content/drive/MyDrive/CodingDojo/01-Fundamentals/PROJECT: PREDICTION OF PRODUCT SALES/Data/sales_predictions_2023.csv'\n",
    "\n",
    "df = pd.read_csv(file_url)\n",
    "\n",
    "#Copy of Dataframe\n",
    "df_ml = df.copy()"
   ]
  },
  {
   "cell_type": "markdown",
   "metadata": {
    "id": "u1ktTv9DoBLz"
   },
   "source": [
    "###**Inspect Data**"
   ]
  },
  {
   "cell_type": "markdown",
   "metadata": {
    "id": "aT03FyFTodH5"
   },
   "source": [
    "####**Head()**"
   ]
  },
  {
   "cell_type": "code",
   "execution_count": null,
   "metadata": {
    "colab": {
     "base_uri": "https://localhost:8080/",
     "height": 357
    },
    "id": "kK1x_18JRm1m",
    "outputId": "93f2e043-4478-4aa6-df2d-e6e27a67e7ff"
   },
   "outputs": [],
   "source": [
    "#Head()\n",
    "df.head()"
   ]
  },
  {
   "cell_type": "markdown",
   "metadata": {
    "id": "c4N7h25SP0YV"
   },
   "source": [
    "####**shape()**"
   ]
  },
  {
   "cell_type": "code",
   "execution_count": null,
   "metadata": {
    "colab": {
     "base_uri": "https://localhost:8080/"
    },
    "id": "pLgCRbErQR7w",
    "outputId": "b8cf2db9-abb7-4a02-b859-accc4767b4ac"
   },
   "outputs": [],
   "source": [
    "df.shape\n",
    "print(f'There are {df.shape[0]} rows, and {df.shape[1]} columns.')"
   ]
  },
  {
   "cell_type": "markdown",
   "metadata": {
    "id": "6hVZFbcPROoi"
   },
   "source": [
    "####**dtypes**"
   ]
  },
  {
   "cell_type": "code",
   "execution_count": null,
   "metadata": {
    "colab": {
     "base_uri": "https://localhost:8080/"
    },
    "id": "AGWbxbpKRR8w",
    "outputId": "0f6f7909-c662-4535-adc7-2ca4cd8f52f4"
   },
   "outputs": [],
   "source": [
    "df.dtypes"
   ]
  },
  {
   "cell_type": "markdown",
   "metadata": {
    "id": "NjiwFbUaoTbo"
   },
   "source": [
    "####**Info()**"
   ]
  },
  {
   "cell_type": "code",
   "execution_count": null,
   "metadata": {
    "colab": {
     "base_uri": "https://localhost:8080/"
    },
    "id": "7ulwtmCtRt7N",
    "outputId": "f1698d99-bde1-4767-a232-5bf77531cd55"
   },
   "outputs": [],
   "source": [
    "#Info()\n",
    "df.info()"
   ]
  },
  {
   "cell_type": "markdown",
   "metadata": {
    "id": "jSs4ZVsuR01P"
   },
   "source": [
    "####**describe()**"
   ]
  },
  {
   "cell_type": "code",
   "execution_count": null,
   "metadata": {
    "colab": {
     "base_uri": "https://localhost:8080/",
     "height": 300
    },
    "id": "94jvn6C1R3Rr",
    "outputId": "267c2878-e2f4-4e9f-ae71-cd290d8dd4cf"
   },
   "outputs": [],
   "source": [
    "#Descriptive statistics for numeric columns\n",
    "df.describe(include='number')"
   ]
  },
  {
   "cell_type": "code",
   "execution_count": null,
   "metadata": {
    "colab": {
     "base_uri": "https://localhost:8080/",
     "height": 236
    },
    "id": "PFzGtlX3SIOc",
    "outputId": "23e39131-fafe-407f-c67f-303ea83c79df"
   },
   "outputs": [],
   "source": [
    "#Descriptive statistics for categoric columns\n",
    "df.describe(include='object')"
   ]
  },
  {
   "cell_type": "markdown",
   "metadata": {
    "id": "HMNvBCr1ErtP"
   },
   "source": [
    "##**Clean Data**"
   ]
  },
  {
   "cell_type": "markdown",
   "metadata": {
    "id": "ETypx_XGb0sm"
   },
   "source": [
    "####**Dropping/Replacing Columns**"
   ]
  },
  {
   "cell_type": "code",
   "execution_count": null,
   "metadata": {
    "colab": {
     "base_uri": "https://localhost:8080/"
    },
    "id": "hnN9PsopaosX",
    "outputId": "51b222b9-57a1-4881-b9f2-b971887c085b"
   },
   "outputs": [],
   "source": [
    "df.info()"
   ]
  },
  {
   "cell_type": "markdown",
   "metadata": {
    "id": "bb5f2IXn326s"
   },
   "source": [
    "####**Duplicated Data**\n"
   ]
  },
  {
   "cell_type": "code",
   "execution_count": null,
   "metadata": {
    "colab": {
     "base_uri": "https://localhost:8080/"
    },
    "id": "tr9bh3TJ6VaJ",
    "outputId": "4b29b833-c588-42ae-fceb-4d2d7c1c76a9"
   },
   "outputs": [],
   "source": [
    "dup_rows = df.duplicated().sum()\n",
    "print(f'There are {dup_rows} duplicate rows.')"
   ]
  },
  {
   "cell_type": "markdown",
   "metadata": {
    "id": "kp4QbivciBt8"
   },
   "source": [
    "####**Unique Values**"
   ]
  },
  {
   "cell_type": "code",
   "execution_count": null,
   "metadata": {
    "colab": {
     "base_uri": "https://localhost:8080/"
    },
    "id": "kTi3Xt-oe-i2",
    "outputId": "f012e3c5-3690-4af5-bf0f-0c2bc9f44a7e"
   },
   "outputs": [],
   "source": [
    "df.nunique()"
   ]
  },
  {
   "cell_type": "code",
   "execution_count": null,
   "metadata": {
    "colab": {
     "base_uri": "https://localhost:8080/"
    },
    "id": "qPb0dDAKjkf4",
    "outputId": "189dc84d-c896-4eda-a161-fc101ff9f680"
   },
   "outputs": [],
   "source": [
    "#Unique Value percentage\n",
    "unique_percentage = df.nunique()/len(df) * 100\n",
    "unique_percentage"
   ]
  },
  {
   "cell_type": "markdown",
   "metadata": {
    "id": "stcl6WZdh1NC"
   },
   "source": [
    "####**Missing Values**"
   ]
  },
  {
   "cell_type": "code",
   "execution_count": null,
   "metadata": {
    "colab": {
     "base_uri": "https://localhost:8080/"
    },
    "id": "GhM5-yN4kFtq",
    "outputId": "865c777a-e232-42e3-ac29-805e6d8a291e"
   },
   "outputs": [],
   "source": [
    "#Finding number of missing values\n",
    "missing_values = df.isna().sum()\n",
    "missing_values"
   ]
  },
  {
   "cell_type": "code",
   "execution_count": null,
   "metadata": {
    "colab": {
     "base_uri": "https://localhost:8080/"
    },
    "id": "6_OwAAkEiVhz",
    "outputId": "5739e029-05b5-4f09-e118-0dfdc1c36c70"
   },
   "outputs": [],
   "source": [
    "#percent of missing_values\n",
    "missing_values_percent = missing_values/len(df) * 100\n",
    "missing_values_percent"
   ]
  },
  {
   "cell_type": "markdown",
   "metadata": {
    "id": "cbDRIm5luy72"
   },
   "source": [
    "####**Fixing Data Types**"
   ]
  },
  {
   "cell_type": "code",
   "execution_count": null,
   "metadata": {
    "colab": {
     "base_uri": "https://localhost:8080/"
    },
    "id": "gpHoVYQn2sAS",
    "outputId": "74d6d45a-a681-444d-c647-920c7eb1d9c6"
   },
   "outputs": [],
   "source": [
    "df.info()"
   ]
  },
  {
   "cell_type": "markdown",
   "metadata": {
    "id": "Y6ZT3Kq7iidV"
   },
   "source": [
    "####**Visualizing Missing Values with Missingno**"
   ]
  },
  {
   "cell_type": "code",
   "execution_count": null,
   "metadata": {
    "colab": {
     "base_uri": "https://localhost:8080/",
     "height": 530
    },
    "id": "KPD7lpoiixX0",
    "outputId": "26e6325e-bab0-4f94-a721-c98ef8cfd92a"
   },
   "outputs": [],
   "source": [
    "import missingno as msno\n",
    "msno.matrix(df);"
   ]
  },
  {
   "cell_type": "markdown",
   "metadata": {
    "id": "jDRvISL25WmL"
   },
   "source": [
    "#####**Address the Null Values**\n"
   ]
  },
  {
   "cell_type": "markdown",
   "metadata": {
    "id": "S--Nshas5gLs"
   },
   "source": [
    "######**Null Values in Categorical Columns**"
   ]
  },
  {
   "cell_type": "code",
   "execution_count": null,
   "metadata": {
    "colab": {
     "base_uri": "https://localhost:8080/"
    },
    "id": "h0vg3A9IjEGV",
    "outputId": "37fdd791-7cce-4d8a-d8a9-28dc0e8d75a0"
   },
   "outputs": [],
   "source": [
    "# save list of categorical column name.\n",
    "categorical_col = df.select_dtypes('object').columns\n",
    "categorical_col"
   ]
  },
  {
   "cell_type": "code",
   "execution_count": null,
   "metadata": {
    "colab": {
     "base_uri": "https://localhost:8080/"
    },
    "id": "8ewPun3z6LzD",
    "outputId": "4e326434-c2c5-4d62-ec2b-e6d6e1c283d0"
   },
   "outputs": [],
   "source": [
    "# Check for nunique for categorical columns\n",
    "for col in categorical_col:\n",
    "  print(f'Value Counts for {col}')\n",
    "  print(df[col].value_counts())\n",
    "  print('\\n')"
   ]
  },
  {
   "cell_type": "markdown",
   "metadata": {
    "id": "1WgKmJkCYY73"
   },
   "source": [
    "####**Data Consistency**"
   ]
  },
  {
   "cell_type": "markdown",
   "metadata": {
    "id": "soP92pGTVZ4P"
   },
   "source": [
    "##### **Data Consistency- Categorical Columns**\n",
    "\n",
    "\n"
   ]
  },
  {
   "cell_type": "code",
   "execution_count": null,
   "metadata": {
    "colab": {
     "base_uri": "https://localhost:8080/"
    },
    "id": "IDyCj7YAVqXB",
    "outputId": "869a99db-f00b-41bf-87f0-833c983aea07"
   },
   "outputs": [],
   "source": [
    "# Item_Fat_Content- fix the values\n",
    "df['Item_Fat_Content'] = df['Item_Fat_Content'].replace(['low fat' , 'LF'], 'Low Fat')\n",
    "df['Item_Fat_Content'] = df['Item_Fat_Content'].replace('reg' , 'Regular')\n",
    "df['Item_Fat_Content'].value_counts()"
   ]
  },
  {
   "cell_type": "markdown",
   "metadata": {
    "id": "c2ClinC1bfzQ"
   },
   "source": [
    "###### **Replacing Data in Categorical Columns**\n",
    "- **Drop the column**\n",
    " - con: This would result in a significant loss of data.\n",
    " - +50% missing values per row would be significant enough to justify this option.\n",
    "\n",
    "- **Drop rows with missing values**\n",
    " - con: This would result in a significant loss of data.\n",
    " - +5% missing values per column would too great to justify this option, however -5% missing values would justify this option.\n",
    "\n",
    "- **Replace missing values with the value 'Unknown'**\n",
    " - pro: This typically will not create bias in favor of a specific label or class.\n",
    " - con: This will not factor correlations between features.\n",
    "\n",
    "- **Impute missing values using the most frequent value, 'mode', value of the column**\n",
    " - pro: This typically works well with small numeric datasets.\n",
    " - con: This may create bias in favor of a specific label or class.\n",
    " - con: This will not factor correlations between features.\n"
   ]
  },
  {
   "cell_type": "code",
   "execution_count": null,
   "metadata": {
    "id": "M48MZm3gLnNo"
   },
   "outputs": [],
   "source": [
    "#Replace missing categorical column values with 'Unknown'\n",
    "\n",
    "df['Outlet_Size'] = df['Outlet_Size'].fillna('Unknown')\n"
   ]
  },
  {
   "cell_type": "markdown",
   "metadata": {
    "id": "SiTszdxaabGv"
   },
   "source": [
    "- Replacing with 'Unknown' since, about 28% of the data is missing. This is to avoid any bias, or significant loss of data."
   ]
  },
  {
   "cell_type": "markdown",
   "metadata": {
    "id": "PCsNbxt1bwUM"
   },
   "source": [
    "#####**Data Consistency- Numerical Columns**"
   ]
  },
  {
   "cell_type": "code",
   "execution_count": null,
   "metadata": {
    "colab": {
     "base_uri": "https://localhost:8080/"
    },
    "id": "jKGzM4LbDZHU",
    "outputId": "20c75299-a778-4099-c762-c72a27a4cd1f"
   },
   "outputs": [],
   "source": [
    "# Have list of numerical column name.\n",
    "numerical_col = df.select_dtypes(['int', 'float']).columns\n",
    "numerical_col"
   ]
  },
  {
   "cell_type": "code",
   "execution_count": null,
   "metadata": {
    "colab": {
     "base_uri": "https://localhost:8080/"
    },
    "id": "YA0aiECrEJ7K",
    "outputId": "b0e49fd4-6ca1-40df-a4f4-3bc416a4d4b0"
   },
   "outputs": [],
   "source": [
    "# check for nunique for numerical columns\n",
    "for col in numerical_col:\n",
    "  print(f'Value Counts for {col}')\n",
    "  print(df[col].value_counts())\n",
    "  print('\\n')"
   ]
  },
  {
   "cell_type": "markdown",
   "metadata": {
    "id": "BZZq-orEbDVp"
   },
   "source": [
    "###### **Replacing Data in Numeric Columns**\n",
    "- **Drop the column**\n",
    " - con: This would result in a significant loss of data.\n",
    " - +50% missing values per row would be significant enough to justify this option.\n",
    "\n",
    "- **Drop rows with missing values**\n",
    " - con: This would result in a significant loss of data.\n",
    " - +5% missing values per column would too great to justify this option, however -5% missing values would justify this option.\n",
    "\n",
    "- **Impute missing values using the 'mean' value of the column**\n",
    " - pro: This typically works well with small numeric datasets.\n",
    " - con: This can introduce bias and is affected by skew and outliers more than the 'median' value.\n",
    " - con: This will not factor correlations between features.\n",
    "\n",
    "- **Impute missing values using the 'median' value of the column**\n",
    " - pro: This typically works well with small numeric datasets.\n",
    " - pro: This is less affected by outliers than strategy = 'mean'.\n",
    " - con: This will not factor correlations between features."
   ]
  },
  {
   "cell_type": "code",
   "execution_count": null,
   "metadata": {
    "id": "jHdpKEnBe_eB"
   },
   "outputs": [],
   "source": [
    "import statistics as stat\n",
    "weight_median = df['Item_Weight'].median()"
   ]
  },
  {
   "cell_type": "code",
   "execution_count": null,
   "metadata": {
    "id": "tWQQ4A1wScjz"
   },
   "outputs": [],
   "source": [
    "# Impute missing values using 'median' value\n",
    "df['Item_Weight'] = df['Item_Weight'].fillna(weight_median)\n"
   ]
  },
  {
   "cell_type": "markdown",
   "metadata": {
    "id": "iinEfkgpapTm"
   },
   "source": [
    "- Replacing with 'median' value since, about 17% of the data is unknown- to avoid any bias, or losing valueable data. Using Median to replace missing values since it is less affected by skew and outliers."
   ]
  },
  {
   "cell_type": "code",
   "execution_count": null,
   "metadata": {
    "colab": {
     "base_uri": "https://localhost:8080/"
    },
    "id": "pwM4PvYxYR_3",
    "outputId": "df1d262a-55f3-4537-8659-6ce8acb08f92"
   },
   "outputs": [],
   "source": [
    "#checking Data types\n",
    "df.dtypes"
   ]
  },
  {
   "cell_type": "code",
   "execution_count": null,
   "metadata": {
    "colab": {
     "base_uri": "https://localhost:8080/",
     "height": 300
    },
    "id": "Lk1TqBB2Yv2W",
    "outputId": "ea30ba37-225d-4c12-f7c2-8ac86c9d888e"
   },
   "outputs": [],
   "source": [
    "#Descriptive data for numerical columns\n",
    "df.describe(include='number')"
   ]
  },
  {
   "cell_type": "markdown",
   "metadata": {
    "id": "VmYXpGkJg12B"
   },
   "source": [
    "#### Summary Statistic for Numerical Columns\n",
    "For any numerical columns, obtain the summary statistics of each (min, max, mean)."
   ]
  },
  {
   "cell_type": "code",
   "execution_count": null,
   "metadata": {
    "colab": {
     "base_uri": "https://localhost:8080/",
     "height": 300
    },
    "id": "U8q6h2EUg-dE",
    "outputId": "1fea0fc9-522f-4ce5-cc9d-1526a1060e91"
   },
   "outputs": [],
   "source": [
    "df.describe(include = 'number')"
   ]
  },
  {
   "cell_type": "markdown",
   "metadata": {
    "id": "ykVsK2OcEtvD"
   },
   "source": [
    "##**Exploratory Data Analysis**"
   ]
  },
  {
   "cell_type": "markdown",
   "metadata": {
    "id": "u2fWUt1v1NHg"
   },
   "source": [
    "###**Categorical Columns**"
   ]
  },
  {
   "cell_type": "code",
   "execution_count": null,
   "metadata": {
    "colab": {
     "base_uri": "https://localhost:8080/",
     "height": 236
    },
    "id": "LzZvoh37bEtv",
    "outputId": "81a6b503-60b4-44bf-9b1d-0c9b44da38a8"
   },
   "outputs": [],
   "source": [
    "## Display the descriptive statistics for the non-numeric columns\n",
    "df.describe(include='object')"
   ]
  },
  {
   "cell_type": "markdown",
   "metadata": {
    "id": "uRIuETmqdPPW"
   },
   "source": [
    "#### **'Item_Fat_Content' column**"
   ]
  },
  {
   "cell_type": "code",
   "execution_count": null,
   "metadata": {
    "colab": {
     "base_uri": "https://localhost:8080/"
    },
    "id": "8P5NuQIuXswf",
    "outputId": "9cae5f3a-6f8d-419f-ca35-1a3610691834"
   },
   "outputs": [],
   "source": [
    "## Display the value counts for the column\n",
    "df['Item_Fat_Content'].value_counts()"
   ]
  },
  {
   "cell_type": "code",
   "execution_count": null,
   "metadata": {
    "colab": {
     "base_uri": "https://localhost:8080/"
    },
    "id": "C8ypYtukdPPY",
    "outputId": "fb71312c-f986-42ff-b1ae-9485a00596b7"
   },
   "outputs": [],
   "source": [
    "## Display the descriptive statistics for the column\n",
    "df['Item_Fat_Content'].describe()"
   ]
  },
  {
   "cell_type": "code",
   "execution_count": null,
   "metadata": {
    "colab": {
     "base_uri": "https://localhost:8080/",
     "height": 472
    },
    "id": "LkQCaaKc3Y-Z",
    "outputId": "5b53ae4b-9b48-4820-8187-ac538866811c"
   },
   "outputs": [],
   "source": [
    "# Define ax using seaborn.countplot()\n",
    "ax = sns.countplot(data=df, x ='Item_Fat_Content')\n",
    "#Set title, and axis label name\n",
    "ax.set_xlabel('Item Fat Content')\n",
    "ax.set_ylabel('Count')\n",
    "ax.set_title('Item Fat Content');"
   ]
  },
  {
   "cell_type": "markdown",
   "metadata": {
    "id": "46JIhgCkCn9s"
   },
   "source": [
    "Interpretation:\n",
    "  - Low Fat Content has a higher count of instances compared to Regular Fat Content."
   ]
  },
  {
   "cell_type": "markdown",
   "metadata": {
    "id": "xvoxg2d_dP9K"
   },
   "source": [
    "#### **'Item_Type' column**"
   ]
  },
  {
   "cell_type": "code",
   "execution_count": null,
   "metadata": {
    "colab": {
     "base_uri": "https://localhost:8080/"
    },
    "id": "41OC44WbdP9L",
    "outputId": "00422621-f6f0-4999-d23c-2eba78507d1f"
   },
   "outputs": [],
   "source": [
    "## Display the descriptive statistics for the column\n",
    "df['Item_Type'].describe()"
   ]
  },
  {
   "cell_type": "code",
   "execution_count": null,
   "metadata": {
    "colab": {
     "base_uri": "https://localhost:8080/"
    },
    "id": "Zdr86ZHLXwum",
    "outputId": "e12d683f-564e-46e0-88cb-4449f5d55c7a"
   },
   "outputs": [],
   "source": [
    "## Display the value counts for the column in descending order\n",
    "count_item_type = df['Item_Type'].value_counts().sort_values(ascending = False)\n",
    "count_item_type"
   ]
  },
  {
   "cell_type": "code",
   "execution_count": null,
   "metadata": {
    "colab": {
     "base_uri": "https://localhost:8080/",
     "height": 606
    },
    "id": "bXya0oZ49ShY",
    "outputId": "741ab7d1-e497-41d4-84c6-0f07fd9a9f53"
   },
   "outputs": [],
   "source": [
    "#Define ax using seaborn.barplot()\n",
    "ax = sns.barplot(data=df, x= count_item_type.index, y= count_item_type.values)\n",
    "plt.figure(figsize = (18,8));\n",
    "\n",
    "#Rotate x-axis to avid overlap\n",
    "ax.tick_params(axis='x', rotation = 90)\n",
    "#Set the title\n",
    "ax.set_title(\"Item Type Distribution\")\n",
    "#set x-axis and y-axis labels\n",
    "ax.set_xlabel = ('Item Type')\n",
    "ax.set_ylabel = ('Count');"
   ]
  },
  {
   "cell_type": "markdown",
   "metadata": {
    "id": "wfP1KmXBCzEY"
   },
   "source": [
    "Interpretation:\n",
    "  - Fruits and Vegetables has the highest count of instances.\n",
    "  - Seafood has the lowest count of instances."
   ]
  },
  {
   "cell_type": "markdown",
   "metadata": {
    "id": "3oi5odNLdQLL"
   },
   "source": [
    "#### **'Outlet_Identifier' column**"
   ]
  },
  {
   "cell_type": "code",
   "execution_count": null,
   "metadata": {
    "colab": {
     "base_uri": "https://localhost:8080/"
    },
    "id": "CsrrSV0pX06_",
    "outputId": "551721c5-ee21-4286-e904-579d22091a92"
   },
   "outputs": [],
   "source": [
    "## Display the value counts for the column\n",
    "count_outlet_identifier = df['Outlet_Identifier'].value_counts().sort_values( ascending = False)\n",
    "count_outlet_identifier\n"
   ]
  },
  {
   "cell_type": "code",
   "execution_count": null,
   "metadata": {
    "colab": {
     "base_uri": "https://localhost:8080/"
    },
    "id": "ZGeyECEfdQLN",
    "outputId": "e9ec814a-c2cf-4492-feba-c6e98f4f50ae"
   },
   "outputs": [],
   "source": [
    "## Display the descriptive statistics for the column\n",
    "df['Outlet_Identifier'].describe()"
   ]
  },
  {
   "cell_type": "code",
   "execution_count": null,
   "metadata": {
    "colab": {
     "base_uri": "https://localhost:8080/",
     "height": 507
    },
    "id": "hzf0VpVyl79F",
    "outputId": "d57b4431-109f-47d5-d1a0-820b0e300006"
   },
   "outputs": [],
   "source": [
    "# Define ax using seaborn.countplot()\n",
    "ax = sns.countplot(data=df, x = 'Outlet_Identifier')\n",
    "#Rotate x-axis to avid overlap\n",
    "ax.tick_params(axis='x', rotation = 45)\n",
    "#Set title, and axis label name\n",
    "ax.set_xlabel('Outlet Identifier')\n",
    "ax.set_ylabel('Count')\n",
    "ax.set_title('Outlet Identifier Distribution');"
   ]
  },
  {
   "cell_type": "markdown",
   "metadata": {
    "id": "du0eVQrmDFC2"
   },
   "source": [
    "Interpretation:\n",
    "  - OUT027 has the highest count of instances.\n",
    "  - OUT019 has the lowest count of instances."
   ]
  },
  {
   "cell_type": "markdown",
   "metadata": {
    "id": "94Jsnw6QdQav"
   },
   "source": [
    "#### **'Outlet_Size' column**"
   ]
  },
  {
   "cell_type": "code",
   "execution_count": null,
   "metadata": {
    "colab": {
     "base_uri": "https://localhost:8080/"
    },
    "id": "KlQpSQRkX6hb",
    "outputId": "52ed97d8-8220-480b-a3fc-b0b869dd5583"
   },
   "outputs": [],
   "source": [
    "## Display the value counts for the column\n",
    "count_outlet_size = df['Outlet_Size'].value_counts()\n",
    "count_outlet_size"
   ]
  },
  {
   "cell_type": "code",
   "execution_count": null,
   "metadata": {
    "colab": {
     "base_uri": "https://localhost:8080/"
    },
    "id": "tyF5hKu-dQaw",
    "outputId": "33da8c64-54c8-4782-e4ed-435f5abf9030"
   },
   "outputs": [],
   "source": [
    "## Display the descriptive statistics for the column\n",
    "df['Outlet_Size'].describe()"
   ]
  },
  {
   "cell_type": "code",
   "execution_count": null,
   "metadata": {
    "colab": {
     "base_uri": "https://localhost:8080/",
     "height": 472
    },
    "id": "S9U1CRHupH6Q",
    "outputId": "17bd350a-1fcc-4b58-e024-890b56747b7b"
   },
   "outputs": [],
   "source": [
    "# Define ax using seaborn.countplot()\n",
    "ax = sns.countplot(data=df, x = 'Outlet_Size')\n",
    "#Set title, and axis label name\n",
    "ax.set_xlabel('Outlet Size')\n",
    "ax.set_ylabel('Count')\n",
    "ax.set_title('Outlet Size Distribution');"
   ]
  },
  {
   "cell_type": "markdown",
   "metadata": {
    "id": "rW5Mow03DPIy"
   },
   "source": [
    "Interpretation:\n",
    "- Medium Outlet Size has the highest count of instances.\n",
    "- High Outlet Size has the lowest count of instances."
   ]
  },
  {
   "cell_type": "markdown",
   "metadata": {
    "id": "FLF1D3s0dQkQ"
   },
   "source": [
    "#### **'Outlet_Location_Type' column**"
   ]
  },
  {
   "cell_type": "code",
   "execution_count": null,
   "metadata": {
    "colab": {
     "base_uri": "https://localhost:8080/"
    },
    "id": "ElMTFAeQX_1i",
    "outputId": "f06c571c-72bf-4081-bf4a-71df44f3a551"
   },
   "outputs": [],
   "source": [
    "## Display the value counts for the column\n",
    "df['Outlet_Location_Type'].value_counts().sort_values()"
   ]
  },
  {
   "cell_type": "code",
   "execution_count": null,
   "metadata": {
    "colab": {
     "base_uri": "https://localhost:8080/"
    },
    "id": "_9zpcOFAdQkQ",
    "outputId": "945c86a1-2e45-476a-bd4b-23efb0ba075a"
   },
   "outputs": [],
   "source": [
    "## Display the descriptive statistics for the column\n",
    "df['Outlet_Location_Type'].describe()"
   ]
  },
  {
   "cell_type": "code",
   "execution_count": null,
   "metadata": {
    "colab": {
     "base_uri": "https://localhost:8080/",
     "height": 472
    },
    "id": "7a9EQ6CTpr3G",
    "outputId": "5e7f2804-705e-4579-8e1a-639a77e87377"
   },
   "outputs": [],
   "source": [
    "# Define ax using seaborn.countplot()\n",
    "ax = sns.countplot(data=df, x = 'Outlet_Location_Type')\n",
    "#Set title, and axis label name\n",
    "ax.set_xlabel('Outlet Location Type')\n",
    "ax.set_ylabel('Count')\n",
    "ax.set_title('Outlet Location Type Distribution');"
   ]
  },
  {
   "cell_type": "markdown",
   "metadata": {
    "id": "6RgOCwbRDT7s"
   },
   "source": [
    "Interpretation:\n",
    "  - Tier 3 Outlet Location Type has the highest count of instances.\n",
    "  - Tier 1 Outlet Location Type has the lowest count of instances.\n"
   ]
  },
  {
   "cell_type": "markdown",
   "metadata": {
    "id": "EshJzqRf9Nmc"
   },
   "source": [
    "#### **'Outlet_Type' column**"
   ]
  },
  {
   "cell_type": "code",
   "execution_count": null,
   "metadata": {
    "colab": {
     "base_uri": "https://localhost:8080/"
    },
    "id": "3XPdDVXQ9Nmd",
    "outputId": "35166603-a727-4ca4-9926-a1170799d589"
   },
   "outputs": [],
   "source": [
    "## Display the value counts for the column\n",
    "df['Outlet_Type'].value_counts()"
   ]
  },
  {
   "cell_type": "code",
   "execution_count": null,
   "metadata": {
    "colab": {
     "base_uri": "https://localhost:8080/"
    },
    "id": "u6gSI3hF9Nme",
    "outputId": "dda9dca8-d475-4c7c-b133-6c307cc16a97"
   },
   "outputs": [],
   "source": [
    "## Display the descriptive statistics for the column\n",
    "df['Outlet_Type'].describe()"
   ]
  },
  {
   "cell_type": "code",
   "execution_count": null,
   "metadata": {
    "colab": {
     "base_uri": "https://localhost:8080/",
     "height": 593
    },
    "id": "qzlnvGXip7WM",
    "outputId": "a6e0dd67-b8e5-45ca-deb4-487bc09aedd2"
   },
   "outputs": [],
   "source": [
    "# Define ax using seaborn.countplot()\n",
    "ax = sns.countplot(data=df, x = 'Outlet_Type')\n",
    "#Rotate x-axis to avid overlap\n",
    "ax.tick_params(axis='x', rotation = 90)\n",
    "#Set title, and axis label name\n",
    "ax.set_xlabel('Outlet Type')\n",
    "ax.set_ylabel('Count')\n",
    "ax.set_title('Outlet Type Distribution');"
   ]
  },
  {
   "cell_type": "markdown",
   "metadata": {
    "id": "ju4wDyq_9Nme"
   },
   "source": [
    "Interpretation:\n",
    "  - Supermarket Type 1 has the highest count of instances.\n",
    "  - Supermarket Type 2 has the lowest count of instances.\n"
   ]
  },
  {
   "cell_type": "markdown",
   "metadata": {
    "id": "79imgcwea-W1"
   },
   "source": [
    "### **Numerical Columns**"
   ]
  },
  {
   "cell_type": "code",
   "execution_count": null,
   "metadata": {
    "colab": {
     "base_uri": "https://localhost:8080/",
     "height": 300
    },
    "id": "iEhc7gcnbNbE",
    "outputId": "0b52219b-0e3c-48d7-c9e1-733f570cb1f2"
   },
   "outputs": [],
   "source": [
    "## Display the descriptive statistics for the numeric columns\n",
    "df.describe(include=('number'))"
   ]
  },
  {
   "cell_type": "markdown",
   "metadata": {
    "id": "uiafrwGmeMl9"
   },
   "source": [
    "#### **'Item_Weight' column**"
   ]
  },
  {
   "cell_type": "code",
   "execution_count": null,
   "metadata": {
    "colab": {
     "base_uri": "https://localhost:8080/"
    },
    "id": "03LnnIOZsKDa",
    "outputId": "a807dfaa-c752-4774-c908-2536c482227d"
   },
   "outputs": [],
   "source": [
    "### Display the value counts for the column\n",
    "df['Item_Weight'].value_counts()"
   ]
  },
  {
   "cell_type": "code",
   "execution_count": null,
   "metadata": {
    "colab": {
     "base_uri": "https://localhost:8080/"
    },
    "id": "nVSwRv60sgmt",
    "outputId": "01adc743-3a9a-4124-ea31-a69c094ad75b"
   },
   "outputs": [],
   "source": [
    "## Display the descriptive statistics for the column\n",
    "df['Item_Weight'].describe()"
   ]
  },
  {
   "cell_type": "markdown",
   "metadata": {
    "id": "6XE8quSB34vh"
   },
   "source": [
    "- **'Item Weight' Histogram**"
   ]
  },
  {
   "cell_type": "code",
   "execution_count": null,
   "metadata": {
    "colab": {
     "base_uri": "https://localhost:8080/",
     "height": 472
    },
    "id": "II9UPOicskJp",
    "outputId": "f5f07ab7-42ce-48f6-fa32-814c0ec460f3"
   },
   "outputs": [],
   "source": [
    "## Define a MatplotLib ax object using seaborn.histplot()\n",
    "## Default Bins = 'auto'\n",
    "fig , ax = plt.subplots()\n",
    "\n",
    "ax= sns.histplot(data = df, x = 'Item_Weight')\n",
    "\n",
    "\n",
    "\n",
    "\n",
    "#Set title name and axis names\n",
    "ax.set_title('Distribution of Weight')\n",
    "ax.set_xlabel('Item Weight')\n",
    "ax.set_ylabel(\"Count\");"
   ]
  },
  {
   "cell_type": "markdown",
   "metadata": {
    "id": "UfEqljYX4MGT"
   },
   "source": [
    "'Item Weight' Histogram Interpretation:\n",
    "  - Values range from 4.55 to 21.35.\n",
    "  - The median value is 12.6.\n",
    "  - The data is very slightly negatively skewed.\n"
   ]
  },
  {
   "cell_type": "markdown",
   "metadata": {
    "id": "sE0KtngS4EBu"
   },
   "source": [
    "- **'Item Weight' Boxplot**"
   ]
  },
  {
   "cell_type": "code",
   "execution_count": null,
   "metadata": {
    "colab": {
     "base_uri": "https://localhost:8080/",
     "height": 472
    },
    "id": "NgQaMPjF1TcC",
    "outputId": "0df244bc-7e66-4ad5-924a-6b9109c37766"
   },
   "outputs": [],
   "source": [
    "## Define a MatplotLib ax object using seaborn.boxplot()\n",
    "## Use x = for horizontal\n",
    "ax = sns.boxplot(data = df,\n",
    "                 x = 'Item_Weight')\n",
    "\n",
    "## Set the Title\n",
    "ax.set_title('Item Weight')\n",
    "ax.set_xlabel('Item Weight');"
   ]
  },
  {
   "cell_type": "markdown",
   "metadata": {
    "id": "4tPMV2BC59T8"
   },
   "source": [
    "'Item Weight' Boxplot Interpretation:\n",
    "  - The data is very slightly negatively skewed.\n",
    "  - No outliers are noted."
   ]
  },
  {
   "cell_type": "markdown",
   "metadata": {
    "id": "jyq4SmL29q0y"
   },
   "source": [
    "#### **'Item_Visibility' column**"
   ]
  },
  {
   "cell_type": "code",
   "execution_count": null,
   "metadata": {
    "colab": {
     "base_uri": "https://localhost:8080/"
    },
    "id": "6gmMJAcL6RnT",
    "outputId": "d4e3654d-8edf-4d2e-a40e-ac3cfded4dba"
   },
   "outputs": [],
   "source": [
    "### Display the value counts for the column\n",
    "df['Item_Visibility'].value_counts()"
   ]
  },
  {
   "cell_type": "code",
   "execution_count": null,
   "metadata": {
    "colab": {
     "base_uri": "https://localhost:8080/"
    },
    "id": "4ubRV0cA6b0r",
    "outputId": "2a7be1c8-d705-4a85-dab2-3c4c4eaea976"
   },
   "outputs": [],
   "source": [
    "## Display the descriptive statistics for the column\n",
    "df['Item_Visibility'].describe()"
   ]
  },
  {
   "cell_type": "markdown",
   "metadata": {
    "id": "KdBivxiv6Q9x"
   },
   "source": [
    "- **'Item Visibility' Histogram**"
   ]
  },
  {
   "cell_type": "code",
   "execution_count": null,
   "metadata": {
    "colab": {
     "base_uri": "https://localhost:8080/",
     "height": 472
    },
    "id": "pGADzZUf6vkX",
    "outputId": "1ab0b8c1-e5d7-46d5-dd0b-9e05bf9d3fd9"
   },
   "outputs": [],
   "source": [
    "## Define a MatplotLib ax object using seaborn.histplot()\n",
    "## Default Bins = 'auto'\n",
    "fig , ax = plt.subplots()\n",
    "\n",
    "ax= sns.histplot(data = df, x = 'Item_Visibility')\n",
    "\n",
    "\n",
    "\n",
    "\n",
    "#Set title name and axis names\n",
    "ax.set_title('Distribution of Item Visibility')\n",
    "ax.set_xlabel('Item Visibility')\n",
    "ax.set_ylabel(\"Count\");"
   ]
  },
  {
   "cell_type": "markdown",
   "metadata": {
    "id": "zcVFXHNu7JYl"
   },
   "source": [
    "'Item Visibility' Histogram Interpretation:\n",
    " - Values range from 0.000 to 0.328.\n",
    " - The median value is 0.053.\n",
    " - The data is very positively skewed.\n",
    "\n"
   ]
  },
  {
   "cell_type": "markdown",
   "metadata": {
    "id": "F2E_18un8MoB"
   },
   "source": [
    "- **'Item Visibility' Boxplot**"
   ]
  },
  {
   "cell_type": "code",
   "execution_count": null,
   "metadata": {
    "colab": {
     "base_uri": "https://localhost:8080/",
     "height": 472
    },
    "id": "HwOZFsla8SXa",
    "outputId": "1bbce30b-504e-4880-d3a2-63ddd19896f0"
   },
   "outputs": [],
   "source": [
    "## Define a MatplotLib ax object using seaborn.boxplot()\n",
    "## Use x = for horizontal\n",
    "ax = sns.boxplot(data = df,\n",
    "                 x = 'Item_Visibility')\n",
    "\n",
    "## Set the Title ans x-axis label\n",
    "ax.set_title('Item Visibility')\n",
    "ax.set_xlabel('Item Visibility');\n"
   ]
  },
  {
   "cell_type": "markdown",
   "metadata": {
    "id": "9M7YxTG38w4w"
   },
   "source": [
    "'Item Visibility' Boxplot Interpretation:\n",
    " - The data is very positively skewed.\n",
    " - Outliers are noted on the high side.\n"
   ]
  },
  {
   "cell_type": "markdown",
   "metadata": {
    "id": "1UXOXA6A9uNL"
   },
   "source": [
    "#### **'Item_MRP' column**"
   ]
  },
  {
   "cell_type": "code",
   "execution_count": null,
   "metadata": {
    "colab": {
     "base_uri": "https://localhost:8080/"
    },
    "id": "6poiw2s69oPm",
    "outputId": "309d5091-ba45-41fe-cf6e-0a4f546b08cf"
   },
   "outputs": [],
   "source": [
    "### Display the value counts for the column\n",
    "df['Item_MRP'].value_counts()"
   ]
  },
  {
   "cell_type": "code",
   "execution_count": null,
   "metadata": {
    "colab": {
     "base_uri": "https://localhost:8080/"
    },
    "id": "LcXu2sQj9oPs",
    "outputId": "57c84721-d40f-4842-dbd0-76265d5d5cd5"
   },
   "outputs": [],
   "source": [
    "## Display the descriptive statistics for the column\n",
    "df['Item_MRP'].describe()"
   ]
  },
  {
   "cell_type": "markdown",
   "metadata": {
    "id": "-wwJcL7J9oPw"
   },
   "source": [
    "- **'Item MRP' Histogram**"
   ]
  },
  {
   "cell_type": "code",
   "execution_count": null,
   "metadata": {
    "colab": {
     "base_uri": "https://localhost:8080/",
     "height": 472
    },
    "id": "b5-EZkba9oPy",
    "outputId": "5b7a5983-acde-437e-b6c8-c449f166e140"
   },
   "outputs": [],
   "source": [
    "## Define a MatplotLib ax object using seaborn.histplot()\n",
    "## Default Bins = 'auto'\n",
    "fig , ax = plt.subplots()\n",
    "\n",
    "ax= sns.histplot(data = df, x = 'Item_MRP')\n",
    "\n",
    "\n",
    "#Set title name and axis names\n",
    "ax.set_title('Distribution of Item MRP')\n",
    "ax.set_xlabel('Item MRP')\n",
    "ax.set_ylabel(\"Count\");"
   ]
  },
  {
   "cell_type": "markdown",
   "metadata": {
    "id": "2L5csw0V9oP0"
   },
   "source": [
    "'Item MRP' Histogram Interpretation:\n",
    "  - Values range from  31.29 to 266.88.\n",
    "  - The median value is 143.01.\n",
    "  - The data is very slightly negatively skewed.\n"
   ]
  },
  {
   "cell_type": "markdown",
   "metadata": {
    "id": "VW9GAfcx9oP3"
   },
   "source": [
    "**'Item MRP' Boxplot**"
   ]
  },
  {
   "cell_type": "code",
   "execution_count": null,
   "metadata": {
    "colab": {
     "base_uri": "https://localhost:8080/",
     "height": 472
    },
    "id": "_Zi-0uzd9oP5",
    "outputId": "7a547420-82ac-4e60-fde9-158ac6ccba67"
   },
   "outputs": [],
   "source": [
    "## Define a MatplotLib ax object using seaborn.boxplot()\n",
    "## Use x = for horizontal\n",
    "ax = sns.boxplot(data = df,\n",
    "                 x = 'Item_MRP')\n",
    "\n",
    "## Set the Title\n",
    "ax.set_title('Item MRP')\n",
    "ax.set_xlabel('Item MRP');"
   ]
  },
  {
   "cell_type": "markdown",
   "metadata": {
    "id": "8c_IDwss9oP6"
   },
   "source": [
    "'Item MRP' Boxplot Interpretation:\n",
    "  - The data is very slightly negatively skewed.\n",
    "  - No outliers are noted."
   ]
  },
  {
   "cell_type": "markdown",
   "metadata": {
    "id": "nPS9S4g29yiu"
   },
   "source": [
    "#### **'Outlet_Establishment_Year' column**"
   ]
  },
  {
   "cell_type": "code",
   "execution_count": null,
   "metadata": {
    "colab": {
     "base_uri": "https://localhost:8080/"
    },
    "id": "F67IaWLb_JlT",
    "outputId": "7851070b-0e0c-4245-d416-398e3d82f42a"
   },
   "outputs": [],
   "source": [
    "### Display the value counts for the column\n",
    "df['Outlet_Establishment_Year'].value_counts()"
   ]
  },
  {
   "cell_type": "code",
   "execution_count": null,
   "metadata": {
    "colab": {
     "base_uri": "https://localhost:8080/"
    },
    "id": "NDQ_wAlg_Jla",
    "outputId": "5ef0c5fd-2f59-4aba-ee24-aeaf190bd07f"
   },
   "outputs": [],
   "source": [
    "## Display the descriptive statistics for the column\n",
    "df['Outlet_Establishment_Year'].describe()"
   ]
  },
  {
   "cell_type": "markdown",
   "metadata": {
    "id": "s9BMirUs_NS4"
   },
   "source": [
    "**'Outlet Establishment Year' Histogram**"
   ]
  },
  {
   "cell_type": "code",
   "execution_count": null,
   "metadata": {
    "colab": {
     "base_uri": "https://localhost:8080/",
     "height": 472
    },
    "id": "IG98NzAg_NS5",
    "outputId": "735ce383-c473-442b-fd9a-2ef8abbebff6"
   },
   "outputs": [],
   "source": [
    "## Define a MatplotLib ax object using seaborn.histplot()\n",
    "fig , ax = plt.subplots()\n",
    "\n",
    "ax= sns.histplot(data = df, x = 'Outlet_Establishment_Year', bins = (20))\n",
    "\n",
    "\n",
    "#Set title name and axis names\n",
    "ax.set_title('Distribution of Outlet Establishment Year')\n",
    "ax.set_xlabel('Outlet Establishment Year')\n",
    "ax.set_ylabel(\"Count\");"
   ]
  },
  {
   "cell_type": "markdown",
   "metadata": {
    "id": "SSLIDWep_NS6"
   },
   "source": [
    "'Outlet Establishment Year' Histogram Interpretation:\n",
    "  - Values range from  1985 to 2009.\n",
    "  - The median value is 1999.\n",
    "  - The data is very slightly negatively skewed.\n"
   ]
  },
  {
   "cell_type": "markdown",
   "metadata": {
    "id": "zRSLkoaA_NS7"
   },
   "source": [
    "**'Outlet Establishment Year' Boxplot**"
   ]
  },
  {
   "cell_type": "code",
   "execution_count": null,
   "metadata": {
    "colab": {
     "base_uri": "https://localhost:8080/",
     "height": 472
    },
    "id": "4YQAI-C4_NS7",
    "outputId": "08349119-496f-4319-e478-bf00cde7e742"
   },
   "outputs": [],
   "source": [
    "## Define a MatplotLib ax object using seaborn.boxplot()\n",
    "## Use x = for horizontal\n",
    "ax = sns.boxplot(data = df,\n",
    "                 x = 'Outlet_Establishment_Year')\n",
    "\n",
    "## Set the Title\n",
    "ax.set_title('Outlet Establishment Year')\n",
    "ax.set_xlabel('Outlet Establishment Year');"
   ]
  },
  {
   "cell_type": "markdown",
   "metadata": {
    "id": "Zem46Nv-_NS8"
   },
   "source": [
    "'Outlet Establishment Year' Boxplot Interpretation:\n",
    "  - The data is very slightly negatively skewed.\n",
    "  - No outliers are noted."
   ]
  },
  {
   "cell_type": "markdown",
   "metadata": {
    "id": "uztHv0Eg94HC"
   },
   "source": [
    "#### **'Item_Outlet_Sales' column**"
   ]
  },
  {
   "cell_type": "code",
   "execution_count": null,
   "metadata": {
    "colab": {
     "base_uri": "https://localhost:8080/"
    },
    "id": "NtEfzng5_Pik",
    "outputId": "b1ecdf13-e3c6-4e2b-d031-008ade7b54a0"
   },
   "outputs": [],
   "source": [
    "### Display the value counts for the column\n",
    "df['Item_Outlet_Sales'].value_counts()"
   ]
  },
  {
   "cell_type": "code",
   "execution_count": null,
   "metadata": {
    "colab": {
     "base_uri": "https://localhost:8080/"
    },
    "id": "ivInf7L7_Pim",
    "outputId": "9f8f0de7-2323-4451-e702-29b1271ab396"
   },
   "outputs": [],
   "source": [
    "## Display the descriptive statistics for the column\n",
    "df['Item_Outlet_Sales'].describe()"
   ]
  },
  {
   "cell_type": "markdown",
   "metadata": {
    "id": "2owrzpb-_Pio"
   },
   "source": [
    "**'Item Outlet Sales' Histogram**"
   ]
  },
  {
   "cell_type": "code",
   "execution_count": null,
   "metadata": {
    "colab": {
     "base_uri": "https://localhost:8080/",
     "height": 472
    },
    "id": "_PZRH3lm_Piq",
    "outputId": "7737a8c3-69fc-4d7e-b9d9-da702a632a9a"
   },
   "outputs": [],
   "source": [
    "## Define a MatplotLib ax object using seaborn.histplot()\n",
    "## Default Bins = 'auto'\n",
    "fig , ax = plt.subplots()\n",
    "\n",
    "ax= sns.histplot(data = df, x = 'Item_Outlet_Sales')\n",
    "\n",
    "\n",
    "#Set title name and axis names\n",
    "ax.set_title('Distribution of Item Outlet Sales')\n",
    "ax.set_xlabel('Item Outlet Sales ')\n",
    "ax.set_ylabel(\"Count\");"
   ]
  },
  {
   "cell_type": "markdown",
   "metadata": {
    "id": "MOMwYSFc_Pis"
   },
   "source": [
    "'Item Outlet Sales' Histogram Interpretation:\n",
    "  - Values range from 33.29 to 13086.96.\n",
    "  - The median value is 1794.33.\n",
    "  - The data is very positively skewed\n"
   ]
  },
  {
   "cell_type": "markdown",
   "metadata": {
    "id": "Jdr72bCu_Piu"
   },
   "source": [
    "**'Item Outlet Sales' Boxplot**"
   ]
  },
  {
   "cell_type": "code",
   "execution_count": null,
   "metadata": {
    "colab": {
     "base_uri": "https://localhost:8080/",
     "height": 472
    },
    "id": "BwgvUeph_Piv",
    "outputId": "67918a86-8176-4d1c-c682-c6c76fbee6e8"
   },
   "outputs": [],
   "source": [
    "## Define a MatplotLib ax object using seaborn.boxplot()\n",
    "## Use x = for horizontal\n",
    "ax = sns.boxplot(data = df,\n",
    "                 x = 'Item_Outlet_Sales')\n",
    "\n",
    "## Set the Title\n",
    "ax.set_title('Item Outlet Sales')\n",
    "ax.set_xlabel('Item Outlet Sales');"
   ]
  },
  {
   "cell_type": "markdown",
   "metadata": {
    "id": "t-L-H-Wt_Pix"
   },
   "source": [
    "'Item Outlet Sales' Boxplot Interpretation:\n",
    "  - The data is very positively skewed .\n",
    "  - Outliers are noted on the high end."
   ]
  },
  {
   "cell_type": "markdown",
   "metadata": {
    "id": "7_tho_vBiy2g"
   },
   "source": [
    "###**Correlation**"
   ]
  },
  {
   "cell_type": "markdown",
   "metadata": {
    "id": "XHhgOBy9DLQS"
   },
   "source": [
    "####.corr() method"
   ]
  },
  {
   "cell_type": "code",
   "execution_count": null,
   "metadata": {
    "colab": {
     "base_uri": "https://localhost:8080/",
     "height": 206
    },
    "id": "zidMnFF_DPon",
    "outputId": "471b0af9-ea38-4648-fcf5-7c36ba059daf"
   },
   "outputs": [],
   "source": [
    "#To check all numeric features in the dataframe for correlations, use df.corr()\n",
    "corr = df.corr()\n",
    "\n",
    "corr"
   ]
  },
  {
   "cell_type": "markdown",
   "metadata": {
    "id": "tdnLLuPjDhCj"
   },
   "source": [
    "####Heatmap of Correlations"
   ]
  },
  {
   "cell_type": "markdown",
   "metadata": {
    "id": "9aDXQUstDtfp"
   },
   "source": [
    "- Heatmap of correlations will display any correlation between numeric features."
   ]
  },
  {
   "cell_type": "code",
   "execution_count": null,
   "metadata": {
    "colab": {
     "base_uri": "https://localhost:8080/",
     "height": 606
    },
    "id": "GrveMJzBD5q-",
    "outputId": "38cad7ba-7423-497f-d459-67d975170785"
   },
   "outputs": [],
   "source": [
    "##Define Matplotlib fix and ax objects using plt.subplots()\n",
    "## Use figsize= to set the size of the figure\n",
    "fig, ax = plt.subplots()\n",
    "\n",
    "##Define Matplotlib ax object using sns.heatmap()\n",
    "##Use cmap= to define the color map\n",
    "##Use annot= to annotate the correlation values\n",
    "ax = sns.heatmap(corr, cmap = 'viridis', annot = True);"
   ]
  },
  {
   "cell_type": "markdown",
   "metadata": {
    "id": "ysQkH6rEE9I9"
   },
   "source": [
    "Interpretation of Heatmap:\n",
    "  - The highest correlation is between Item_MRP and Item_Outlet Sales"
   ]
  },
  {
   "cell_type": "markdown",
   "metadata": {
    "id": "IhT3c48bEy2j"
   },
   "source": [
    "##**Explanatory Data Analysis**"
   ]
  },
  {
   "cell_type": "markdown",
   "metadata": {
    "id": "bhIshfza3GZb"
   },
   "source": [
    "##### **Impact of Item MRP on Item Outlet Sales**"
   ]
  },
  {
   "cell_type": "code",
   "execution_count": null,
   "metadata": {
    "colab": {
     "base_uri": "https://localhost:8080/",
     "height": 472
    },
    "id": "M6bK1vnd3t6r",
    "outputId": "89bd638e-3011-4403-fb28-46210eb0cc57"
   },
   "outputs": [],
   "source": [
    "## Define a MatplotLib ax object using sns.regplot()\n",
    "\n",
    "scatter_kws = dict(edgecolor='white')\n",
    "ax = sns.regplot(data = df,\n",
    "                 x ='Item_MRP',\n",
    "                 y = 'Item_Outlet_Sales',\n",
    "                 scatter_kws= scatter_kws,\n",
    "                 line_kws = {'color':'yellow'})\n",
    "## Set the Title\n",
    "ax.set_title('Item Outlet Sales vs Item MRP', fontsize=12, fontweight = 'bold')\n",
    "# Set Axes Labels\n",
    "ax.set_xlabel('Item MRP', fontsize=10, fontweight = 'bold')\n",
    "ax.set_ylabel('Item Outlet Sales', fontsize=10, fontweight = 'bold');"
   ]
  },
  {
   "cell_type": "markdown",
   "metadata": {
    "id": "Dfy3MonG8H5R"
   },
   "source": [
    "- Prediction: Positive Correlation- Item MRP Influences Item Outlet Sales."
   ]
  },
  {
   "cell_type": "markdown",
   "metadata": {
    "id": "VisiXlhi9BQZ"
   },
   "source": [
    "##### **Impact of Outlet Size on Outlet Sales**"
   ]
  },
  {
   "cell_type": "code",
   "execution_count": null,
   "metadata": {
    "colab": {
     "base_uri": "https://localhost:8080/"
    },
    "id": "oWls8XhL-SeG",
    "outputId": "3b34985f-966b-437a-8003-9bf447393b5a"
   },
   "outputs": [],
   "source": [
    "count_outlet_size = df['Outlet_Size'].value_counts()\n",
    "count_outlet_size"
   ]
  },
  {
   "cell_type": "code",
   "execution_count": null,
   "metadata": {
    "colab": {
     "base_uri": "https://localhost:8080/",
     "height": 472
    },
    "id": "XtQ899YO92II",
    "outputId": "dc94726d-4435-477b-819b-d191a211f06a"
   },
   "outputs": [],
   "source": [
    "## Define label_order\n",
    "outlet_size_sales_mean = df.groupby('Outlet_Size')['Item_Outlet_Sales'].mean().sort_values(ascending=False)\n",
    "outlet_size_sales_mean\n",
    "## Define a MatplotLib ax object using sns.barplot()\n",
    "fig, ax = plt.subplots()\n",
    "ax = sns.barplot(data = df,\n",
    "                 x ='Outlet_Size',\n",
    "                 y = 'Item_Outlet_Sales',\n",
    "                 order = outlet_size_sales_mean.index,\n",
    "                 errorbar = None)\n",
    "## Set the Title\n",
    "ax.set_title('Item Outlet Sales by Outlet Size', fontsize=12, fontweight = 'bold')\n",
    "# Set Axes Labels\n",
    "ax.set_xlabel('Outlet Size', fontsize=10, fontweight = 'bold')\n",
    "ax.set_ylabel('Item Outlet Sales', fontsize=10, fontweight = 'bold');"
   ]
  },
  {
   "cell_type": "markdown",
   "metadata": {
    "id": "58xz5QrLEcvw"
   },
   "source": [
    "- Prediction: Medium Outlets contribute the most towards Outlet Sales, while Unknown Outlet Size contribute the least."
   ]
  },
  {
   "cell_type": "markdown",
   "metadata": {
    "id": "clKKF_KaHDiC"
   },
   "source": [
    "##### **Impact of Item Type on Outlet Sales**"
   ]
  },
  {
   "cell_type": "code",
   "execution_count": null,
   "metadata": {
    "colab": {
     "base_uri": "https://localhost:8080/"
    },
    "id": "0gmvlEZGLb1z",
    "outputId": "65a6c677-0cf6-4c02-fd7b-210881aa62f8"
   },
   "outputs": [],
   "source": [
    "## Display the descriptive statistics for the column\n",
    "df['Item_Type'].value_counts()"
   ]
  },
  {
   "cell_type": "code",
   "execution_count": null,
   "metadata": {
    "colab": {
     "base_uri": "https://localhost:8080/"
    },
    "id": "ocLvS93vdXiv",
    "outputId": "11630a57-4ff9-4303-a828-2b22ec2748ce"
   },
   "outputs": [],
   "source": [
    "#Item type sales in percent using groupby\n",
    "total_item_type_sales = df.groupby('Item_Type')['Item_Outlet_Sales'].sum().round(2)\n",
    "total_sales = df[\"Item_Outlet_Sales\"].sum()\n",
    "percent_item_type_sales = ((total_item_type_sales / total_sales)*100).sort_values(ascending=False)\n",
    "percent_item_type_sales"
   ]
  },
  {
   "cell_type": "code",
   "execution_count": null,
   "metadata": {
    "colab": {
     "base_uri": "https://localhost:8080/",
     "height": 510
    },
    "id": "U2vjlK6Mg5eB",
    "outputId": "cb11754e-f293-4d24-f7b7-b0af39d14602"
   },
   "outputs": [],
   "source": [
    "percent_item_type_sales = ((total_item_type_sales / total_sales) * 100).reset_index()\n",
    "\n",
    "## Define a Matplotlib ax object using sns.barplot()\n",
    "fig, ax = plt.subplots(figsize=(12, 6))\n",
    "ax = sns.barplot(data=percent_item_type_sales,\n",
    "                 y='Item_Type',\n",
    "                 x='Item_Outlet_Sales',\n",
    "                 order=percent_item_type_sales.sort_values('Item_Outlet_Sales', ascending=False)['Item_Type'],\n",
    "                 errorbar=None,\n",
    "                 palette = 'plasma')\n",
    "## Set the Title\n",
    "ax.set_title('Percentage of Outlet Sales by Item Type', fontsize=12, fontweight='bold')\n",
    "# Set Axes Labels\n",
    "ax.set_ylabel('Item Type', fontsize=10, fontweight='bold')\n",
    "ax.set_xlabel('Percentage of Outlet Sales', fontsize=10, fontweight='bold');\n"
   ]
  },
  {
   "cell_type": "markdown",
   "metadata": {
    "id": "mY4FbWT8lxkG"
   },
   "source": [
    "- Prediction: Fruits and Vegetables (15%) exhibit the highest sales, whereas Seafood (0.8%) demonstrates the lowest sales.\n",
    "  - The top three Items Types to impact most on Item Outlet sales are:\n",
    "      - Fruits and Vegetables: 15%\n",
    "      - Snack Foods: 14%\n",
    "      - Household: 11%"
   ]
  },
  {
   "cell_type": "markdown",
   "metadata": {
    "id": "rup8-ATGn6j5"
   },
   "source": [
    "##### Impact of Outlet Location on Outlet Sales"
   ]
  },
  {
   "cell_type": "code",
   "execution_count": null,
   "metadata": {
    "colab": {
     "base_uri": "https://localhost:8080/"
    },
    "id": "prvgGE9Kn-xJ",
    "outputId": "d1428bc8-7232-4f2d-9bf1-e6d510025004"
   },
   "outputs": [],
   "source": [
    "## Display the descriptive statistics for the column\n",
    "df['Outlet_Location_Type'].value_counts()"
   ]
  },
  {
   "cell_type": "code",
   "execution_count": null,
   "metadata": {
    "colab": {
     "base_uri": "https://localhost:8080/"
    },
    "id": "yMFHm_y6uU51",
    "outputId": "a828f9b7-c8ef-4abb-b8d2-0d24d144f305"
   },
   "outputs": [],
   "source": [
    "location_sales= df.groupby('Outlet_Location_Type')['Item_Outlet_Sales'].sum().sort_values(ascending = False)\n",
    "location_sales_percent = ((location_sales / total_sales)*100)\n",
    "location_sales_percent"
   ]
  },
  {
   "cell_type": "code",
   "execution_count": null,
   "metadata": {
    "colab": {
     "base_uri": "https://localhost:8080/",
     "height": 563
    },
    "id": "KjI-j8nDvAGY",
    "outputId": "6e4c356f-f31f-44ac-99aa-37c47643534d"
   },
   "outputs": [],
   "source": [
    "location_sales_percent = ((location_sales / total_sales)*100).reset_index()\n",
    "## Define a Matplotlib ax object using sns.barplot()\n",
    "fig, ax = plt.subplots(figsize=(12, 6))\n",
    "ax = sns.barplot(data=location_sales_percent,\n",
    "                 y='Outlet_Location_Type',\n",
    "                 x='Item_Outlet_Sales',\n",
    "                 order=location_sales_percent.sort_values('Item_Outlet_Sales', ascending=False)['Outlet_Location_Type'],\n",
    "                 errorbar=None,\n",
    "                 palette = 'plasma')\n",
    "## Set the Title\n",
    "ax.set_title('Percentage of Outlet Sales by Outlet Location Type', fontsize=12, fontweight='bold')\n",
    "# Set Axes Labels\n",
    "ax.set_ylabel('Outlet Location Type', fontsize=10, fontweight='bold')\n",
    "ax.set_xlabel('Percentage of Outlet Sales', fontsize=10, fontweight='bold');"
   ]
  },
  {
   "cell_type": "markdown",
   "metadata": {
    "id": "cORnwP_VvgBq"
   },
   "source": [
    "- Prediction: Tier 3 Outlet Location Types make the biggest contribution to total sales, with 41% of the sales coming from these outlets. On the other hand, Tier 1 Outlet Location Types have the smallest contribution, accounting for only 24% of the total sales."
   ]
  },
  {
   "cell_type": "markdown",
   "metadata": {
    "id": "JZjj2MAaIPT6"
   },
   "source": [
    "##**Preprocessing for Machine Learning**"
   ]
  },
  {
   "cell_type": "markdown",
   "metadata": {
    "id": "42k7oOdBI3O2"
   },
   "source": [
    "###**Inspect Data**"
   ]
  },
  {
   "cell_type": "markdown",
   "metadata": {
    "id": "sUZapTmiI3O7"
   },
   "source": [
    "####**shape()**"
   ]
  },
  {
   "cell_type": "code",
   "execution_count": null,
   "metadata": {
    "colab": {
     "base_uri": "https://localhost:8080/"
    },
    "id": "u-3Nao56I3O9",
    "outputId": "17156d78-3254-48ff-afa7-590f6e0c175b"
   },
   "outputs": [],
   "source": [
    "df_ml.shape\n",
    "print(f'There are {df_ml.shape[0]} rows, and {df_ml.shape[1]} columns.')"
   ]
  },
  {
   "cell_type": "markdown",
   "metadata": {
    "id": "zS_omjwQI3O_"
   },
   "source": [
    "####**Info()**"
   ]
  },
  {
   "cell_type": "code",
   "execution_count": null,
   "metadata": {
    "colab": {
     "base_uri": "https://localhost:8080/"
    },
    "id": "yHk_D_cxI3PB",
    "outputId": "0c2e13b9-26c8-4fde-cba2-b771c1272202"
   },
   "outputs": [],
   "source": [
    "#Info()\n",
    "df_ml.info()"
   ]
  },
  {
   "cell_type": "markdown",
   "metadata": {
    "id": "LQzqAbzhoRMi"
   },
   "source": [
    "####**head()**"
   ]
  },
  {
   "cell_type": "code",
   "execution_count": null,
   "metadata": {
    "colab": {
     "base_uri": "https://localhost:8080/",
     "height": 357
    },
    "id": "H6h5eoRRoRMj",
    "outputId": "6e699ff2-74b8-4497-f2f1-d8a51884ff44"
   },
   "outputs": [],
   "source": [
    "#Head()\n",
    "df_ml.head()"
   ]
  },
  {
   "cell_type": "markdown",
   "metadata": {
    "id": "gTe7f7AHI3PM"
   },
   "source": [
    "####**describe()**"
   ]
  },
  {
   "cell_type": "code",
   "execution_count": null,
   "metadata": {
    "colab": {
     "base_uri": "https://localhost:8080/",
     "height": 300
    },
    "id": "xmze_-HrI3PO",
    "outputId": "0665817e-701d-4fb4-bacd-760cfc748195"
   },
   "outputs": [],
   "source": [
    "#Descriptive statistics for numeric columns\n",
    "df_ml.describe(include='number')"
   ]
  },
  {
   "cell_type": "code",
   "execution_count": null,
   "metadata": {
    "colab": {
     "base_uri": "https://localhost:8080/",
     "height": 236
    },
    "id": "xmi8z_JlI3PQ",
    "outputId": "2f56b1ee-b623-4172-da18-bd7a0967f827"
   },
   "outputs": [],
   "source": [
    "#Descriptive statistics for categoric columns\n",
    "df_ml.describe(include='object')"
   ]
  },
  {
   "cell_type": "markdown",
   "metadata": {
    "id": "X9e_xeNEnuFs"
   },
   "source": [
    "###**Performing Preprocessing Data**"
   ]
  },
  {
   "cell_type": "code",
   "execution_count": null,
   "metadata": {
    "colab": {
     "base_uri": "https://localhost:8080/"
    },
    "id": "fiZkXjTnolgU",
    "outputId": "23a40163-5bcf-4073-ce87-dff90de05808"
   },
   "outputs": [],
   "source": [
    "# Checking for Duplicates\n",
    "df_ml.duplicated().sum()"
   ]
  },
  {
   "cell_type": "markdown",
   "metadata": {
    "id": "NUCmsiSUopbu"
   },
   "source": [
    "-There are 0 duplicates"
   ]
  },
  {
   "cell_type": "code",
   "execution_count": null,
   "metadata": {
    "colab": {
     "base_uri": "https://localhost:8080/"
    },
    "id": "qGMgZ9u8oujN",
    "outputId": "cc7c93ce-7793-4292-fcbe-e10f713744a0"
   },
   "outputs": [],
   "source": [
    "# Checking missing values\n",
    "df_ml.isna().sum()"
   ]
  },
  {
   "cell_type": "markdown",
   "metadata": {
    "id": "WB8X5YiYI3PX"
   },
   "source": [
    "####**Data Consistency**"
   ]
  },
  {
   "cell_type": "markdown",
   "metadata": {
    "id": "nYoIyHHrKhcY"
   },
   "source": [
    "##### **Data Consistency- Categorical Columns**\n",
    "\n",
    "\n"
   ]
  },
  {
   "cell_type": "code",
   "execution_count": null,
   "metadata": {
    "colab": {
     "base_uri": "https://localhost:8080/"
    },
    "id": "svQ4WvReKhce",
    "outputId": "37992cf0-7dce-4853-c15e-3b350cce93fb"
   },
   "outputs": [],
   "source": [
    "# save list of categorical column name.\n",
    "categorical_col = df_ml.select_dtypes('object').columns\n",
    "categorical_col"
   ]
  },
  {
   "cell_type": "code",
   "execution_count": null,
   "metadata": {
    "colab": {
     "base_uri": "https://localhost:8080/"
    },
    "id": "9gu_URdvKhci",
    "outputId": "ca8961b4-32b0-4907-c735-c962886e8146"
   },
   "outputs": [],
   "source": [
    "# Check for nunique for categorical columns\n",
    "for col in categorical_col:\n",
    "  print(f'Value Counts for {col}')\n",
    "  print(df_ml[col].value_counts())\n",
    "  print('\\n')"
   ]
  },
  {
   "cell_type": "code",
   "execution_count": null,
   "metadata": {
    "colab": {
     "base_uri": "https://localhost:8080/"
    },
    "id": "zL6bq8KHMM-q",
    "outputId": "e81d2cab-3c45-4a2b-c5c4-5fceba293c1e"
   },
   "outputs": [],
   "source": [
    "#Drop 'Item_Identifier'\n",
    "df_ml.drop(columns = 'Item_Identifier', inplace = True)\n",
    "df_ml.info()"
   ]
  },
  {
   "cell_type": "markdown",
   "metadata": {
    "id": "DX-NCZdVLnCT"
   },
   "source": [
    "**Cardinality**\n",
    "- The column \"ITem_Identifier\" has 1559 unique values.\n",
    "- High cardinality will create a very sparse dataset when it is One Hot Encoded, which can negatively impact the models' metrics, and greatly increase processing times.\n",
    "- It will be better to drop this column."
   ]
  },
  {
   "cell_type": "code",
   "execution_count": null,
   "metadata": {
    "colab": {
     "base_uri": "https://localhost:8080/"
    },
    "id": "E70n3OAzKhcm",
    "outputId": "6022b46e-9bf7-4a4f-ba7f-c895439d6bf8"
   },
   "outputs": [],
   "source": [
    "# Item_Fat_Content- fix the values\n",
    "df_ml['Item_Fat_Content'] = df_ml['Item_Fat_Content'].replace(['low fat' , 'LF'], 'Low Fat')\n",
    "df_ml['Item_Fat_Content'] = df_ml['Item_Fat_Content'].replace('reg' , 'Regular')\n",
    "df_ml['Item_Fat_Content'].value_counts()"
   ]
  },
  {
   "cell_type": "code",
   "execution_count": null,
   "metadata": {
    "colab": {
     "base_uri": "https://localhost:8080/"
    },
    "id": "-t8dpUGYpj8Q",
    "outputId": "90e71f6d-c95e-4bee-d36a-2058138d655c"
   },
   "outputs": [],
   "source": [
    "df_ml.info()"
   ]
  },
  {
   "cell_type": "markdown",
   "metadata": {
    "id": "tkc3nvrjKhcu"
   },
   "source": [
    "#####**Data Consistency- Numerical Columns**"
   ]
  },
  {
   "cell_type": "code",
   "execution_count": null,
   "metadata": {
    "colab": {
     "base_uri": "https://localhost:8080/"
    },
    "id": "uvyDayiwKhcw",
    "outputId": "b8abdb02-c2f0-4c01-ede5-69d15c1eeead"
   },
   "outputs": [],
   "source": [
    "# Have list of numerical column name.\n",
    "numerical_col = df_ml.select_dtypes(['int', 'float']).columns\n",
    "numerical_col"
   ]
  },
  {
   "cell_type": "code",
   "execution_count": null,
   "metadata": {
    "colab": {
     "base_uri": "https://localhost:8080/"
    },
    "id": "Rl7Kx-N9Khcz",
    "outputId": "36dcd810-1279-4a2e-865e-2aa580d295df"
   },
   "outputs": [],
   "source": [
    "# check for nunique for numerical columns\n",
    "for col in numerical_col:\n",
    "  print(f'Value Counts for {col}')\n",
    "  print(df_ml[col].value_counts())\n",
    "  print('\\n')"
   ]
  },
  {
   "cell_type": "markdown",
   "metadata": {
    "id": "GzNpmaGvrDkj"
   },
   "source": [
    "###**Defining X and y**"
   ]
  },
  {
   "cell_type": "code",
   "execution_count": null,
   "metadata": {
    "colab": {
     "base_uri": "https://localhost:8080/"
    },
    "id": "W9kHhxhErK3W",
    "outputId": "b02e4f99-64e5-4824-b97a-5f71a6d2e7a9"
   },
   "outputs": [],
   "source": [
    "#Check and Drop null values in target column Item_Outlet_Sales\n",
    "df_ml['Item_Outlet_Sales'].isna().sum()"
   ]
  },
  {
   "cell_type": "markdown",
   "metadata": {
    "id": "N_q_6igWr5kg"
   },
   "source": [
    "- There are 0 null values in target column."
   ]
  },
  {
   "cell_type": "markdown",
   "metadata": {
    "id": "inwzrsDCsE-U"
   },
   "source": [
    "#### Define X and y"
   ]
  },
  {
   "cell_type": "code",
   "execution_count": null,
   "metadata": {
    "colab": {
     "base_uri": "https://localhost:8080/",
     "height": 357
    },
    "id": "nWs8zAhPrfeQ",
    "outputId": "e9d004c5-06bd-4023-802c-95e35776cf74"
   },
   "outputs": [],
   "source": [
    "## Define X and y\n",
    "target = 'Item_Outlet_Sales'\n",
    "\n",
    "X = df_ml.drop(columns=target).copy()\n",
    "y = df_ml[target].copy()\n",
    "X.head()"
   ]
  },
  {
   "cell_type": "markdown",
   "metadata": {
    "id": "zPyuFgUqs97E"
   },
   "source": [
    "####Train-Test-Split"
   ]
  },
  {
   "cell_type": "code",
   "execution_count": null,
   "metadata": {
    "id": "FQXVOMe5OVWI"
   },
   "outputs": [],
   "source": [
    "# Perfoming a train-test-split\n",
    "X_train, X_test, y_train, y_test = train_test_split(X, y, random_state = 42)"
   ]
  },
  {
   "cell_type": "code",
   "execution_count": null,
   "metadata": {
    "colab": {
     "base_uri": "https://localhost:8080/"
    },
    "id": "8otQM37iB5yQ",
    "outputId": "2f238c4c-0d34-44e6-9a28-b04dbce0753e"
   },
   "outputs": [],
   "source": [
    "X_test.shape"
   ]
  },
  {
   "cell_type": "code",
   "execution_count": null,
   "metadata": {
    "colab": {
     "base_uri": "https://localhost:8080/"
    },
    "id": "SbBajfDl346f",
    "outputId": "1dadd260-dd7b-4fc1-b200-8542d61327ae"
   },
   "outputs": [],
   "source": [
    "X_train.dtypes"
   ]
  },
  {
   "cell_type": "markdown",
   "metadata": {
    "id": "zwjEXLMsBF9Z"
   },
   "source": [
    "### Create 3 Pipelines\n",
    "\n",
    "The data is going to divided as follows:\n",
    "\n",
    "- numeric columns:\n",
    "  - Item_Weight, Item_Visibility, Item_MRP, Outlet_Establishment_Year\n",
    "- ordinal categorical columns :\n",
    "  - Item_Fat_Content, Outlet_Size, Outlet_Location_Type\n",
    "- nominal categorical columns :\n",
    "  - Item_Type, Outlet_Identifier, Outlet_Type\n",
    "and preprocess each subset differently.\n"
   ]
  },
  {
   "cell_type": "markdown",
   "metadata": {
    "id": "w8p46b5JiVWM"
   },
   "source": [
    "#### 1. Numeric"
   ]
  },
  {
   "cell_type": "code",
   "execution_count": null,
   "metadata": {
    "colab": {
     "base_uri": "https://localhost:8080/"
    },
    "id": "2Jdx3KqUgLLL",
    "outputId": "43ff64e3-f420-4617-cbb1-54a1731b54db"
   },
   "outputs": [],
   "source": [
    "# PREPROCESSING PIPELINE FOR NUMERIC DATA\n",
    "\n",
    "# Save list of number column names\n",
    "num_cols = X_train.select_dtypes(\"number\").columns\n",
    "print(\"Numeric Columns:\", num_cols)\n",
    "\n",
    "# Transformers\n",
    "impute_mean = SimpleImputer(strategy='mean')\n",
    "scaler = StandardScaler()\n",
    "\n",
    "# Pipeline\n",
    "num_pipe = make_pipeline(impute_mean, scaler)\n",
    "num_pipe\n",
    "\n",
    "# Tuple\n",
    "numeric_tuple = ('numeric',num_pipe, num_cols)"
   ]
  },
  {
   "cell_type": "markdown",
   "metadata": {
    "id": "z-q8OQCcg1a6"
   },
   "source": [
    "#### 2. Ordinal"
   ]
  },
  {
   "cell_type": "code",
   "execution_count": null,
   "metadata": {
    "id": "PswigsfNg3u5"
   },
   "outputs": [],
   "source": [
    "# PREPROCESSING PIPELINE FOR ORDINAL DATA\n",
    "\n",
    "# Save list of number column names\n",
    "ordinal_cols = ['Item_Fat_Content', 'Outlet_Size', 'Outlet_Location_Type']\n",
    "\n",
    "# Ordered Category Lists\n",
    "Item_Fat_Content_list = ['Low Fat', 'Regular']\n",
    "Outlet_Size_list = ['Small', 'Medium', 'High']\n",
    "Outlet_Location_list = ['Tier 1', 'Tier 2', 'Tier 3']\n",
    "\n",
    "\n",
    "# Transformers\n",
    "\n",
    "ord_encoder = OrdinalEncoder(categories=[Item_Fat_Content_list, Outlet_Size_list, Outlet_Location_list])\n",
    "freq_imputer = SimpleImputer(strategy='most_frequent')\n",
    "\n",
    "# you might have 100 diff cat for ordinal so its getting out of range so good to scale\n",
    "scaler_ord = StandardScaler()\n",
    "\n",
    "# Pipeline\n",
    "ord_pipe = make_pipeline(freq_imputer, ord_encoder, scaler_ord)\n",
    "\n",
    "# Tuple\n",
    "ord_tuple = ('ordinal',ord_pipe, ordinal_cols)"
   ]
  },
  {
   "cell_type": "markdown",
   "metadata": {
    "id": "vX8k4D7UPH78"
   },
   "source": [
    "#### 2. Nominal"
   ]
  },
  {
   "cell_type": "code",
   "execution_count": null,
   "metadata": {
    "id": "CPEVXXdhgfHa"
   },
   "outputs": [],
   "source": [
    "# PREPROCESSING PIPELINE FOR ONE-HOT-ENCODED DATA\n",
    "\n",
    "# Save list of nominal column names\n",
    "nominal_cols = X_train.select_dtypes('object').drop(columns=ordinal_cols).columns\n",
    "\n",
    "# Transformers\n",
    "\n",
    "missing_imputer = SimpleImputer(strategy='constant', fill_value='missing')\n",
    "ohe_encoder = OneHotEncoder(sparse=False, handle_unknown='ignore')\n",
    "\n",
    "# Pipeline\n",
    "nom_pipe = make_pipeline(missing_imputer , ohe_encoder)\n",
    "\n",
    "# Tuple\n",
    "ohe_tuple = ('categorical',nom_pipe, nominal_cols)"
   ]
  },
  {
   "cell_type": "markdown",
   "metadata": {
    "id": "Hso3PgSvboHd"
   },
   "source": [
    "###Column Transformer"
   ]
  },
  {
   "cell_type": "code",
   "execution_count": null,
   "metadata": {
    "colab": {
     "base_uri": "https://localhost:8080/",
     "height": 187
    },
    "id": "yCSDTmbpbquI",
    "outputId": "81d6d6f5-73d6-434e-ff91-398ba04344f1"
   },
   "outputs": [],
   "source": [
    "#Preprocessing ColumnTransformer\n",
    "preprocessor = ColumnTransformer([numeric_tuple, ord_tuple, ohe_tuple], verbose_feature_names_out=False)\n",
    "preprocessor"
   ]
  },
  {
   "cell_type": "markdown",
   "metadata": {
    "id": "UEO24BhvcKR2"
   },
   "source": [
    "##**Machine Learning - Training the Models**"
   ]
  },
  {
   "cell_type": "markdown",
   "metadata": {
    "id": "UwJOORxFdmuP"
   },
   "source": [
    "####Evaluate Model Performance"
   ]
  },
  {
   "cell_type": "code",
   "execution_count": null,
   "metadata": {
    "id": "c06I8exNd8bT"
   },
   "outputs": [],
   "source": [
    "#function for true and predicted values\n",
    "# print MAE, MSE, RMSE, and R2 metrics for the model\n",
    "def eval_regression(y_true, y_pred, name='model'):\n",
    "  \"\"\"Uses true targets and predictions from a regression model and prints the metrics(MAE, MSE, RMSE and R2 Score)\n",
    "  set 'name' to name of model and 'train' or 'test' as appropriate\"\"\"\n",
    "  mae= mean_absolute_error(y_true, y_pred)\n",
    "  mse= mean_squared_error(y_true,y_pred)\n",
    "  rmse= np.sqrt(mse)\n",
    "  r2= r2_score(y_true,y_pred)\n",
    "\n",
    "  print(f'{name} Scores')\n",
    "  print(f'MAE: {mae:,.4f} \\nMSE: {mse:,.4f} \\nRMSE: {rmse:,.4f} \\nR2: {r2:,.4f}\\n')"
   ]
  },
  {
   "cell_type": "markdown",
   "metadata": {
    "id": "BPw2frOSclMj"
   },
   "source": [
    "####Linear Regression Model"
   ]
  },
  {
   "cell_type": "code",
   "execution_count": null,
   "metadata": {
    "colab": {
     "base_uri": "https://localhost:8080/",
     "height": 262
    },
    "id": "pBiL3aBVcqUa",
    "outputId": "b34094d0-d1e7-42e9-acbd-dd94eb1db4ee"
   },
   "outputs": [],
   "source": [
    "#Make and fit model\n",
    "lr_pipe = make_pipeline(preprocessor,LinearRegression())\n",
    "lr_pipe.fit(X_train, y_train)"
   ]
  },
  {
   "cell_type": "code",
   "execution_count": null,
   "metadata": {
    "colab": {
     "base_uri": "https://localhost:8080/"
    },
    "id": "OVdnEkwmc7qo",
    "outputId": "e938cdc8-68cf-4f0e-8c8c-fe1d8f9a940d"
   },
   "outputs": [],
   "source": [
    "#Make predictions using training and testing data\n",
    "training_preds = lr_pipe.predict(X_train)\n",
    "testing_preds = lr_pipe.predict(X_test)\n",
    "training_preds"
   ]
  },
  {
   "cell_type": "code",
   "execution_count": null,
   "metadata": {
    "colab": {
     "base_uri": "https://localhost:8080/"
    },
    "id": "yJzWv35WeBC8",
    "outputId": "f1cc7697-9431-41bc-9877-f2d5dc5fcfd4"
   },
   "outputs": [],
   "source": [
    "##Evaluate Model's Performance\n",
    "eval_regression(y_train, training_preds, name='Training')\n",
    "eval_regression(y_test, testing_preds, name='Testing')"
   ]
  },
  {
   "cell_type": "markdown",
   "metadata": {
    "id": "qs5c3ZvmkF1F"
   },
   "source": [
    "**Observations**\n",
    "  - According to the MAE scores since model seems to be a little underfitting.\n",
    "  - However, as per the R2 scores, the model is working well with both test and train data."
   ]
  },
  {
   "cell_type": "markdown",
   "metadata": {
    "id": "GRVl0yR2e0oE"
   },
   "source": [
    "####Decision Tree Model"
   ]
  },
  {
   "cell_type": "code",
   "execution_count": null,
   "metadata": {
    "id": "GG3TMXm3gCfR"
   },
   "outputs": [],
   "source": [
    "#Make and fit model\n",
    "dt_pipe = make_pipeline(preprocessor,DecisionTreeRegressor(random_state=42))\n",
    "dt_pipe.fit(X_train, y_train)\n",
    "\n",
    "#Make predictions using training and testing data\n",
    "training_preds = dt_pipe.predict(X_train)\n",
    "testing_preds = dt_pipe.predict(X_test)"
   ]
  },
  {
   "cell_type": "code",
   "execution_count": null,
   "metadata": {
    "colab": {
     "base_uri": "https://localhost:8080/"
    },
    "id": "YFmQTyk6gTeu",
    "outputId": "614e0559-64be-4103-dfbc-a8e3a3580f55"
   },
   "outputs": [],
   "source": [
    "##Evaluate Model's Performance\n",
    "eval_regression(y_train, training_preds, name='Training')\n",
    "eval_regression(y_test, testing_preds, name='Testing')"
   ]
  },
  {
   "cell_type": "markdown",
   "metadata": {
    "id": "5lVEBsAfg5OT"
   },
   "source": [
    "##### Tuning Decision Tree Regressor Model"
   ]
  },
  {
   "cell_type": "code",
   "execution_count": null,
   "metadata": {
    "id": "28IowA6Mg_cr"
   },
   "outputs": [],
   "source": [
    "#Create range of max_depth value\n",
    "depths = range(1, dt_pipe['decisiontreeregressor'].get_depth())\n",
    "\n",
    "#create a dataframe to store train and test scores.\n",
    "scores = pd.DataFrame(columns=['Train', 'Test'], index = depths)\n",
    "\n",
    "#loop over the values in depths\n",
    "for n in depths:\n",
    "  #fit a new model with max_depth\n",
    "  tree = DecisionTreeRegressor(random_state = 42, max_depth=n)\n",
    "\n",
    "  #put the model into a pipeline\n",
    "  tree_pipe = make_pipeline(preprocessor, tree)\n",
    "\n",
    "  #fit the model\n",
    "  tree_pipe.fit(X_train, y_train)\n",
    "\n",
    "  #create prediction arrays\n",
    "  train_pred = tree_pipe.predict(X_train)\n",
    "  test_pred = tree_pipe.predict(X_test)\n",
    "\n",
    "  #evaluate the model using R2 Score\n",
    "  train_r2score = r2_score(y_train, train_pred)\n",
    "  test_r2score = r2_score(y_test, test_pred)\n",
    "\n",
    "  #store the scores in the scores dataframe\n",
    "  scores.loc[n, 'Train'] = train_r2score\n",
    "  scores.loc[n, 'Test'] = test_r2score"
   ]
  },
  {
   "cell_type": "code",
   "execution_count": null,
   "metadata": {
    "colab": {
     "base_uri": "https://localhost:8080/",
     "height": 1000
    },
    "id": "IrLswgMJhkEk",
    "outputId": "5b18fe75-c363-4b55-d630-830f8f3931f8"
   },
   "outputs": [],
   "source": [
    "scores"
   ]
  },
  {
   "cell_type": "code",
   "execution_count": null,
   "metadata": {
    "colab": {
     "base_uri": "https://localhost:8080/",
     "height": 449
    },
    "id": "8UIrqrhxiEPA",
    "outputId": "2a8f9d34-95fb-40c8-99b3-6320458954e9"
   },
   "outputs": [],
   "source": [
    "#plot the scores to visually determine the best max_depth\n",
    "plt.plot(depths, scores['Train'], label = 'train')\n",
    "plt.plot(depths, scores['Test'], label = 'test')\n",
    "plt.ylabel('R2 Scores')\n",
    "plt.xlabel('Max Depths')\n",
    "plt.legend()\n",
    "plt.show()"
   ]
  },
  {
   "cell_type": "code",
   "execution_count": null,
   "metadata": {
    "colab": {
     "base_uri": "https://localhost:8080/"
    },
    "id": "MBoACDIJiMbJ",
    "outputId": "bde89b6e-2c3d-4d38-b0e9-6a57270669b4"
   },
   "outputs": [],
   "source": [
    "\n",
    "#sort the dataframe by test scores and save the index (k) of the best score\n",
    "best_depth = scores.sort_values(by='Test', ascending=False).index[0]\n",
    "best_depth"
   ]
  },
  {
   "cell_type": "markdown",
   "metadata": {
    "id": "OqxBTwBSiUEZ"
   },
   "source": [
    "- Best Depth for Decision Tree Regressor Model is 5."
   ]
  },
  {
   "cell_type": "code",
   "execution_count": null,
   "metadata": {
    "colab": {
     "base_uri": "https://localhost:8080/"
    },
    "id": "QjnossmjicTL",
    "outputId": "b5cd47e6-f75d-4a48-d790-14e00f7a10af"
   },
   "outputs": [],
   "source": [
    "#Reevaluate Decision Tree using the best_depth\n",
    "best_dt = DecisionTreeRegressor(random_state=42, max_depth = best_depth)\n",
    "\n",
    "best_dt_pipe = make_pipeline(preprocessor, best_dt)\n",
    "\n",
    "best_dt_pipe.fit(X_train, y_train)\n",
    "\n",
    "print('Training Scores for High Variance Decision Tree')\n",
    "eval_regression(y_train, best_dt_pipe.predict(X_train), name = 'training')\n",
    "\n",
    "print('Testing Scores for High Variance Decision Tree')\n",
    "eval_regression(y_test, best_dt_pipe.predict(X_test), name = 'testing')"
   ]
  },
  {
   "cell_type": "markdown",
   "metadata": {
    "id": "N8Zq6_1nkoX1"
   },
   "source": [
    "**Observations**\n",
    "  - Tuning the model to the max depth on the decision tree improved the results for the testing data.\n",
    "  - This model has high bias after tuning to the max depth"
   ]
  },
  {
   "cell_type": "markdown",
   "metadata": {
    "id": "HkPJmVtnlabj"
   },
   "source": [
    "#### Random Forest Tree Model"
   ]
  },
  {
   "cell_type": "code",
   "execution_count": null,
   "metadata": {
    "colab": {
     "base_uri": "https://localhost:8080/"
    },
    "id": "hziyOgGWlc8A",
    "outputId": "0dad004b-966c-4d99-eb06-fd2f0503402c"
   },
   "outputs": [],
   "source": [
    "#Make and fit model\n",
    "rf_pipe = make_pipeline(preprocessor,RandomForestRegressor())\n",
    "rf_pipe.fit(X_train, y_train)\n",
    "\n",
    "#Make predictions using training and testing data\n",
    "training_preds = rf_pipe.predict(X_train)\n",
    "testing_preds = rf_pipe.predict(X_test)\n",
    "training_preds\n",
    "\n",
    "##Evaluate Model's Performance\n",
    "eval_regression(y_train, training_preds, name='Training')\n",
    "eval_regression(y_test, testing_preds, name='Testing')"
   ]
  },
  {
   "cell_type": "markdown",
   "metadata": {
    "id": "xG8qw-csmRw-"
   },
   "source": [
    "**Obervations**\n",
    "  - This model seems to have improved results on the testing data.\n",
    "  - The R2 score is at 55% variance, however the RMSE on testing data is off by 1107.2359"
   ]
  },
  {
   "cell_type": "markdown",
   "metadata": {
    "id": "DykoyDBWnTcB"
   },
   "source": [
    "##### Tuning Random Forest Tree Model"
   ]
  },
  {
   "cell_type": "code",
   "execution_count": null,
   "metadata": {
    "id": "T-UyAOkSnYaH"
   },
   "outputs": [],
   "source": [
    "#create a range of max_depth values\n",
    "n_estimators = [2000]\n",
    "\n",
    "#create a dataframe to store train and test scores.\n",
    "scores = pd.DataFrame(columns=['Train', 'Test'], index=n_estimators)\n",
    "\n",
    "#loop over the values in depths\n",
    "for n in n_estimators:\n",
    "  #fit a new model with max_depth\n",
    "  rf = RandomForestRegressor(random_state = 42, n_estimators=n)\n",
    "\n",
    "  #put the model into a pipeline\n",
    "  rf_pipe = make_pipeline(preprocessor, rf)\n",
    "\n",
    "  #fit the model\n",
    "  rf_pipe.fit(X_train, y_train)\n",
    "\n",
    "  #create prediction arrays\n",
    "  train_pred = rf_pipe.predict(X_train)\n",
    "  test_pred = rf_pipe.predict(X_test)\n",
    "\n",
    "  #evaluate the model using R2 Score\n",
    "  train_r2score = r2_score(y_train, train_pred)\n",
    "  test_r2score = r2_score(y_test, test_pred)\n",
    "\n",
    "  #store the scores in the scores dataframe\n",
    "  scores.loc[n, 'Train'] = train_r2score\n",
    "  scores.loc[n, 'Test'] = test_r2score"
   ]
  },
  {
   "cell_type": "code",
   "execution_count": null,
   "metadata": {
    "colab": {
     "base_uri": "https://localhost:8080/",
     "height": 81
    },
    "id": "1zYZ_Zj1nlNu",
    "outputId": "7c398a56-8d34-4949-e50c-24084a0b8d6b"
   },
   "outputs": [],
   "source": [
    "scores"
   ]
  },
  {
   "cell_type": "code",
   "execution_count": null,
   "metadata": {
    "colab": {
     "base_uri": "https://localhost:8080/"
    },
    "id": "gkhargt5nnPD",
    "outputId": "2808409e-dfed-4e80-ba55-26bdc83b9565"
   },
   "outputs": [],
   "source": [
    "#Best n_estimator\n",
    "best_estimators = scores.sort_values(by='Test', ascending=False).index[0]\n",
    "best_estimators\n"
   ]
  },
  {
   "cell_type": "code",
   "execution_count": null,
   "metadata": {
    "colab": {
     "base_uri": "https://localhost:8080/"
    },
    "id": "O8LtscGjnxBh",
    "outputId": "f700d08a-3a06-49f1-ecda-6886484f813a"
   },
   "outputs": [],
   "source": [
    "#Re-evaluating Random Tree Model using best n_estimator\n",
    "\n",
    "best_rf = RandomForestRegressor(random_state = 42, n_estimators=best_estimators)\n",
    "\n",
    "best_rf_pipe = make_pipeline(preprocessor, best_rf)\n",
    "\n",
    "best_rf_pipe.fit(X_train, y_train)\n",
    "\n",
    "print('Training Scores for High Variance Decision Tree')\n",
    "eval_regression(y_train, best_rf_pipe.predict(X_train), name = 'training')\n",
    "\n",
    "print('\\n')\n",
    "\n",
    "print('Testing Scores for High Variance Decision Tree')\n",
    "eval_regression(y_test, best_rf_pipe.predict(X_test), name = 'testing')\n",
    "\n"
   ]
  },
  {
   "cell_type": "markdown",
   "metadata": {
    "id": "5LSUcuE158VE"
   },
   "source": [
    "**Observations**\n",
    "  - The tuned model is biased. However, it is produce the best performance on the test data.\n",
    "  - The R2 score for test data is 55.89%, while the RMSE score for the test data is off by about 1103.2075."
   ]
  },
  {
   "cell_type": "markdown",
   "metadata": {
    "id": "4cC3ARy56gvx"
   },
   "source": [
    "##**Overall Recommendation**\n",
    "- Model Performance:\n",
    "    - Overall, the best model is definitely the Linear Regression Model. This model avoids the bias.\n",
    "    - The Linear Regression Model performed best giving an R2 score for test data at 56.71%, and the RMSE score for test data at 1092.8631."
   ]
  }
 ],
 "metadata": {
  "colab": {
   "authorship_tag": "ABX9TyPcndoSrxwPsblxLWx7otZF",
   "include_colab_link": true,
   "mount_file_id": "16TGgL4SBS_omuz3_6kljrJHcHGyj0s8R",
   "provenance": [],
   "toc_visible": true
  },
  "kernelspec": {
   "display_name": "Python 3 (ipykernel)",
   "language": "python",
   "name": "python3"
  },
  "language_info": {
   "codemirror_mode": {
    "name": "ipython",
    "version": 3
   },
   "file_extension": ".py",
   "mimetype": "text/x-python",
   "name": "python",
   "nbconvert_exporter": "python",
   "pygments_lexer": "ipython3",
   "version": "3.9.15"
  },
  "toc": {
   "base_numbering": 1,
   "nav_menu": {},
   "number_sections": false,
   "sideBar": true,
   "skip_h1_title": false,
   "title_cell": "Table of Contents",
   "title_sidebar": "Contents",
   "toc_cell": false,
   "toc_position": {},
   "toc_section_display": true,
   "toc_window_display": false
  }
 },
 "nbformat": 4,
 "nbformat_minor": 1
}
